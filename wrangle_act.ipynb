{
 "cells": [
  {
   "cell_type": "markdown",
   "metadata": {},
   "source": [
    "# Data Wrangling and Analysis: @WeRateDogs Tweets"
   ]
  },
  {
   "cell_type": "markdown",
   "metadata": {},
   "source": [
    "# Introduction"
   ]
  },
  {
   "cell_type": "markdown",
   "metadata": {},
   "source": [
    "The goal of this project is to wrangle @WeRateDogs Twitter data to create interesting and trustworthy analyses and visualizations. The Twitter archive is great, but it only contains very basic tweet information. Additional gathering, then assessing and cleaning is required for \"Wow!\"-worthy analyses and visualizations.\n",
    "\n",
    "** Project Details **\n",
    "\n",
    "* Data wrangling\n",
    "    * Gathering data\n",
    "    * Assessing data\n",
    "    * Cleaning data\n",
    "    \n",
    "    \n",
    "* Storing, analyzing, and visualizing the wrangled data\n",
    "\n",
    "* Reporting on\n",
    "    1. data wrangling efforts\n",
    "    2. data analyses and visualizations"
   ]
  },
  {
   "cell_type": "markdown",
   "metadata": {},
   "source": [
    "# Environment Setup"
   ]
  },
  {
   "cell_type": "code",
   "execution_count": 2,
   "metadata": {
    "collapsed": true,
    "scrolled": true
   },
   "outputs": [],
   "source": [
    "# import needed libraries\n",
    "import pandas as pd # for creating and manipulating dataframes\n",
    "import numpy as np # for scientific computing\n",
    "import requests # for HTTP requests\n",
    "import tweepy # for accessing the Twitter API\n",
    "import json # for encoding/decoding JSON objects\n",
    "import matplotlib.pyplot as plt # for 2D plotting\n",
    "from textblob import TextBlob # for processing textual data using common natural language processing (NLP) tasks\n",
    "from timeit import default_timer as timer # for setting up a timer\n",
    "import os\n",
    "import re\n",
    "\n",
    "# for displaying the plots inline\n",
    "%matplotlib inline"
   ]
  },
  {
   "cell_type": "markdown",
   "metadata": {},
   "source": [
    "# Data Wrangling\n",
    "## 1. Gathering Data\n",
    "Gather data from multiple sources, including loading files, programmatically downloading files, and accessing data from APIs.\n",
    "### 1.1 Load @WeRateDogs twitter archive file\n",
    "Load the **@WeRateDogs** tweets archive (2356 tweets). This archive contains basic tweet data (tweet ID, timestamp, text, etc.) for all 5000+ of their tweets as they stood on August 1, 2017."
   ]
  },
  {
   "cell_type": "code",
   "execution_count": 3,
   "metadata": {
    "scrolled": true
   },
   "outputs": [
    {
     "data": {
      "text/html": [
       "<div>\n",
       "<style>\n",
       "    .dataframe thead tr:only-child th {\n",
       "        text-align: right;\n",
       "    }\n",
       "\n",
       "    .dataframe thead th {\n",
       "        text-align: left;\n",
       "    }\n",
       "\n",
       "    .dataframe tbody tr th {\n",
       "        vertical-align: top;\n",
       "    }\n",
       "</style>\n",
       "<table border=\"1\" class=\"dataframe\">\n",
       "  <thead>\n",
       "    <tr style=\"text-align: right;\">\n",
       "      <th></th>\n",
       "      <th>tweet_id</th>\n",
       "      <th>in_reply_to_status_id</th>\n",
       "      <th>in_reply_to_user_id</th>\n",
       "      <th>timestamp</th>\n",
       "      <th>source</th>\n",
       "      <th>text</th>\n",
       "      <th>retweeted_status_id</th>\n",
       "      <th>retweeted_status_user_id</th>\n",
       "      <th>retweeted_status_timestamp</th>\n",
       "      <th>expanded_urls</th>\n",
       "      <th>rating_numerator</th>\n",
       "      <th>rating_denominator</th>\n",
       "      <th>name</th>\n",
       "      <th>doggo</th>\n",
       "      <th>floofer</th>\n",
       "      <th>pupper</th>\n",
       "      <th>puppo</th>\n",
       "    </tr>\n",
       "  </thead>\n",
       "  <tbody>\n",
       "    <tr>\n",
       "      <th>0</th>\n",
       "      <td>892420643555336193</td>\n",
       "      <td>NaN</td>\n",
       "      <td>NaN</td>\n",
       "      <td>2017-08-01 16:23:56 +0000</td>\n",
       "      <td>&lt;a href=\"http://twitter.com/download/iphone\" r...</td>\n",
       "      <td>This is Phineas. He's a mystical boy. Only eve...</td>\n",
       "      <td>NaN</td>\n",
       "      <td>NaN</td>\n",
       "      <td>NaN</td>\n",
       "      <td>https://twitter.com/dog_rates/status/892420643...</td>\n",
       "      <td>13</td>\n",
       "      <td>10</td>\n",
       "      <td>Phineas</td>\n",
       "      <td>None</td>\n",
       "      <td>None</td>\n",
       "      <td>None</td>\n",
       "      <td>None</td>\n",
       "    </tr>\n",
       "    <tr>\n",
       "      <th>1</th>\n",
       "      <td>892177421306343426</td>\n",
       "      <td>NaN</td>\n",
       "      <td>NaN</td>\n",
       "      <td>2017-08-01 00:17:27 +0000</td>\n",
       "      <td>&lt;a href=\"http://twitter.com/download/iphone\" r...</td>\n",
       "      <td>This is Tilly. She's just checking pup on you....</td>\n",
       "      <td>NaN</td>\n",
       "      <td>NaN</td>\n",
       "      <td>NaN</td>\n",
       "      <td>https://twitter.com/dog_rates/status/892177421...</td>\n",
       "      <td>13</td>\n",
       "      <td>10</td>\n",
       "      <td>Tilly</td>\n",
       "      <td>None</td>\n",
       "      <td>None</td>\n",
       "      <td>None</td>\n",
       "      <td>None</td>\n",
       "    </tr>\n",
       "    <tr>\n",
       "      <th>2</th>\n",
       "      <td>891815181378084864</td>\n",
       "      <td>NaN</td>\n",
       "      <td>NaN</td>\n",
       "      <td>2017-07-31 00:18:03 +0000</td>\n",
       "      <td>&lt;a href=\"http://twitter.com/download/iphone\" r...</td>\n",
       "      <td>This is Archie. He is a rare Norwegian Pouncin...</td>\n",
       "      <td>NaN</td>\n",
       "      <td>NaN</td>\n",
       "      <td>NaN</td>\n",
       "      <td>https://twitter.com/dog_rates/status/891815181...</td>\n",
       "      <td>12</td>\n",
       "      <td>10</td>\n",
       "      <td>Archie</td>\n",
       "      <td>None</td>\n",
       "      <td>None</td>\n",
       "      <td>None</td>\n",
       "      <td>None</td>\n",
       "    </tr>\n",
       "    <tr>\n",
       "      <th>3</th>\n",
       "      <td>891689557279858688</td>\n",
       "      <td>NaN</td>\n",
       "      <td>NaN</td>\n",
       "      <td>2017-07-30 15:58:51 +0000</td>\n",
       "      <td>&lt;a href=\"http://twitter.com/download/iphone\" r...</td>\n",
       "      <td>This is Darla. She commenced a snooze mid meal...</td>\n",
       "      <td>NaN</td>\n",
       "      <td>NaN</td>\n",
       "      <td>NaN</td>\n",
       "      <td>https://twitter.com/dog_rates/status/891689557...</td>\n",
       "      <td>13</td>\n",
       "      <td>10</td>\n",
       "      <td>Darla</td>\n",
       "      <td>None</td>\n",
       "      <td>None</td>\n",
       "      <td>None</td>\n",
       "      <td>None</td>\n",
       "    </tr>\n",
       "    <tr>\n",
       "      <th>4</th>\n",
       "      <td>891327558926688256</td>\n",
       "      <td>NaN</td>\n",
       "      <td>NaN</td>\n",
       "      <td>2017-07-29 16:00:24 +0000</td>\n",
       "      <td>&lt;a href=\"http://twitter.com/download/iphone\" r...</td>\n",
       "      <td>This is Franklin. He would like you to stop ca...</td>\n",
       "      <td>NaN</td>\n",
       "      <td>NaN</td>\n",
       "      <td>NaN</td>\n",
       "      <td>https://twitter.com/dog_rates/status/891327558...</td>\n",
       "      <td>12</td>\n",
       "      <td>10</td>\n",
       "      <td>Franklin</td>\n",
       "      <td>None</td>\n",
       "      <td>None</td>\n",
       "      <td>None</td>\n",
       "      <td>None</td>\n",
       "    </tr>\n",
       "  </tbody>\n",
       "</table>\n",
       "</div>"
      ],
      "text/plain": [
       "             tweet_id  in_reply_to_status_id  in_reply_to_user_id  \\\n",
       "0  892420643555336193                    NaN                  NaN   \n",
       "1  892177421306343426                    NaN                  NaN   \n",
       "2  891815181378084864                    NaN                  NaN   \n",
       "3  891689557279858688                    NaN                  NaN   \n",
       "4  891327558926688256                    NaN                  NaN   \n",
       "\n",
       "                   timestamp  \\\n",
       "0  2017-08-01 16:23:56 +0000   \n",
       "1  2017-08-01 00:17:27 +0000   \n",
       "2  2017-07-31 00:18:03 +0000   \n",
       "3  2017-07-30 15:58:51 +0000   \n",
       "4  2017-07-29 16:00:24 +0000   \n",
       "\n",
       "                                              source  \\\n",
       "0  <a href=\"http://twitter.com/download/iphone\" r...   \n",
       "1  <a href=\"http://twitter.com/download/iphone\" r...   \n",
       "2  <a href=\"http://twitter.com/download/iphone\" r...   \n",
       "3  <a href=\"http://twitter.com/download/iphone\" r...   \n",
       "4  <a href=\"http://twitter.com/download/iphone\" r...   \n",
       "\n",
       "                                                text  retweeted_status_id  \\\n",
       "0  This is Phineas. He's a mystical boy. Only eve...                  NaN   \n",
       "1  This is Tilly. She's just checking pup on you....                  NaN   \n",
       "2  This is Archie. He is a rare Norwegian Pouncin...                  NaN   \n",
       "3  This is Darla. She commenced a snooze mid meal...                  NaN   \n",
       "4  This is Franklin. He would like you to stop ca...                  NaN   \n",
       "\n",
       "   retweeted_status_user_id retweeted_status_timestamp  \\\n",
       "0                       NaN                        NaN   \n",
       "1                       NaN                        NaN   \n",
       "2                       NaN                        NaN   \n",
       "3                       NaN                        NaN   \n",
       "4                       NaN                        NaN   \n",
       "\n",
       "                                       expanded_urls  rating_numerator  \\\n",
       "0  https://twitter.com/dog_rates/status/892420643...                13   \n",
       "1  https://twitter.com/dog_rates/status/892177421...                13   \n",
       "2  https://twitter.com/dog_rates/status/891815181...                12   \n",
       "3  https://twitter.com/dog_rates/status/891689557...                13   \n",
       "4  https://twitter.com/dog_rates/status/891327558...                12   \n",
       "\n",
       "   rating_denominator      name doggo floofer pupper puppo  \n",
       "0                  10   Phineas  None    None   None  None  \n",
       "1                  10     Tilly  None    None   None  None  \n",
       "2                  10    Archie  None    None   None  None  \n",
       "3                  10     Darla  None    None   None  None  \n",
       "4                  10  Franklin  None    None   None  None  "
      ]
     },
     "metadata": {},
     "output_type": "display_data"
    }
   ],
   "source": [
    "# Load data in a dataframe\n",
    "archive = pd.read_csv('twitter-archive-enhanced.csv')\n",
    "\n",
    "# Display the first 5 tweets in the dataframe\n",
    "display(archive.head(5))"
   ]
  },
  {
   "cell_type": "markdown",
   "metadata": {},
   "source": [
    "### 1.2 Extracting a file from a server\n",
    "The tweet image predictions, i.e., what breed of dog (or other object, animal, etc.) is present in each tweet according to a neural network. This file (image_predictions.tsv) is hosted on Udacity's servers and is downloaded programmatically using the Requests library."
   ]
  },
  {
   "cell_type": "code",
   "execution_count": 4,
   "metadata": {
    "collapsed": true,
    "scrolled": true
   },
   "outputs": [],
   "source": [
    "# download the file image_predictions.tsv which hosted on Udacity's servers\n",
    "url = 'https://d17h27t6h515a5.cloudfront.net/topher/2017/August/599fd2ad_image-predictions/image-predictions.tsv'\n",
    "r = requests.get(url)"
   ]
  },
  {
   "cell_type": "code",
   "execution_count": 5,
   "metadata": {
    "scrolled": true
   },
   "outputs": [
    {
     "name": "stdout",
     "output_type": "stream",
     "text": [
      "Status-code: 200\n",
      "Content-type: text/tab-separated-values; charset=utf-8\n",
      "Encoding: utf-8\n"
     ]
    }
   ],
   "source": [
    "# Check if the request was successful, and print some info\n",
    "print(\"Status-code: {}\".format(r.status_code))\n",
    "print(\"Content-type: {}\".format(r.headers['content-type']))\n",
    "print(\"Encoding: {}\".format(r.encoding))"
   ]
  },
  {
   "cell_type": "code",
   "execution_count": 6,
   "metadata": {
    "collapsed": true,
    "scrolled": true
   },
   "outputs": [],
   "source": [
    "# Save the extracted file in a new file (image-predictions.tsv)\n",
    "with open(os.path.join('', url.split('/')[-1]), mode='wb') as file:\n",
    "    file.write(r.content)"
   ]
  },
  {
   "cell_type": "code",
   "execution_count": 7,
   "metadata": {
    "scrolled": true
   },
   "outputs": [
    {
     "data": {
      "text/html": [
       "<div>\n",
       "<style>\n",
       "    .dataframe thead tr:only-child th {\n",
       "        text-align: right;\n",
       "    }\n",
       "\n",
       "    .dataframe thead th {\n",
       "        text-align: left;\n",
       "    }\n",
       "\n",
       "    .dataframe tbody tr th {\n",
       "        vertical-align: top;\n",
       "    }\n",
       "</style>\n",
       "<table border=\"1\" class=\"dataframe\">\n",
       "  <thead>\n",
       "    <tr style=\"text-align: right;\">\n",
       "      <th></th>\n",
       "      <th>tweet_id</th>\n",
       "      <th>jpg_url</th>\n",
       "      <th>img_num</th>\n",
       "      <th>p1</th>\n",
       "      <th>p1_conf</th>\n",
       "      <th>p1_dog</th>\n",
       "      <th>p2</th>\n",
       "      <th>p2_conf</th>\n",
       "      <th>p2_dog</th>\n",
       "      <th>p3</th>\n",
       "      <th>p3_conf</th>\n",
       "      <th>p3_dog</th>\n",
       "    </tr>\n",
       "  </thead>\n",
       "  <tbody>\n",
       "    <tr>\n",
       "      <th>0</th>\n",
       "      <td>666020888022790149</td>\n",
       "      <td>https://pbs.twimg.com/media/CT4udn0WwAA0aMy.jpg</td>\n",
       "      <td>1</td>\n",
       "      <td>Welsh_springer_spaniel</td>\n",
       "      <td>0.465074</td>\n",
       "      <td>True</td>\n",
       "      <td>collie</td>\n",
       "      <td>0.156665</td>\n",
       "      <td>True</td>\n",
       "      <td>Shetland_sheepdog</td>\n",
       "      <td>0.061428</td>\n",
       "      <td>True</td>\n",
       "    </tr>\n",
       "    <tr>\n",
       "      <th>1</th>\n",
       "      <td>666029285002620928</td>\n",
       "      <td>https://pbs.twimg.com/media/CT42GRgUYAA5iDo.jpg</td>\n",
       "      <td>1</td>\n",
       "      <td>redbone</td>\n",
       "      <td>0.506826</td>\n",
       "      <td>True</td>\n",
       "      <td>miniature_pinscher</td>\n",
       "      <td>0.074192</td>\n",
       "      <td>True</td>\n",
       "      <td>Rhodesian_ridgeback</td>\n",
       "      <td>0.072010</td>\n",
       "      <td>True</td>\n",
       "    </tr>\n",
       "    <tr>\n",
       "      <th>2</th>\n",
       "      <td>666033412701032449</td>\n",
       "      <td>https://pbs.twimg.com/media/CT4521TWwAEvMyu.jpg</td>\n",
       "      <td>1</td>\n",
       "      <td>German_shepherd</td>\n",
       "      <td>0.596461</td>\n",
       "      <td>True</td>\n",
       "      <td>malinois</td>\n",
       "      <td>0.138584</td>\n",
       "      <td>True</td>\n",
       "      <td>bloodhound</td>\n",
       "      <td>0.116197</td>\n",
       "      <td>True</td>\n",
       "    </tr>\n",
       "    <tr>\n",
       "      <th>3</th>\n",
       "      <td>666044226329800704</td>\n",
       "      <td>https://pbs.twimg.com/media/CT5Dr8HUEAA-lEu.jpg</td>\n",
       "      <td>1</td>\n",
       "      <td>Rhodesian_ridgeback</td>\n",
       "      <td>0.408143</td>\n",
       "      <td>True</td>\n",
       "      <td>redbone</td>\n",
       "      <td>0.360687</td>\n",
       "      <td>True</td>\n",
       "      <td>miniature_pinscher</td>\n",
       "      <td>0.222752</td>\n",
       "      <td>True</td>\n",
       "    </tr>\n",
       "    <tr>\n",
       "      <th>4</th>\n",
       "      <td>666049248165822465</td>\n",
       "      <td>https://pbs.twimg.com/media/CT5IQmsXIAAKY4A.jpg</td>\n",
       "      <td>1</td>\n",
       "      <td>miniature_pinscher</td>\n",
       "      <td>0.560311</td>\n",
       "      <td>True</td>\n",
       "      <td>Rottweiler</td>\n",
       "      <td>0.243682</td>\n",
       "      <td>True</td>\n",
       "      <td>Doberman</td>\n",
       "      <td>0.154629</td>\n",
       "      <td>True</td>\n",
       "    </tr>\n",
       "  </tbody>\n",
       "</table>\n",
       "</div>"
      ],
      "text/plain": [
       "             tweet_id                                          jpg_url  \\\n",
       "0  666020888022790149  https://pbs.twimg.com/media/CT4udn0WwAA0aMy.jpg   \n",
       "1  666029285002620928  https://pbs.twimg.com/media/CT42GRgUYAA5iDo.jpg   \n",
       "2  666033412701032449  https://pbs.twimg.com/media/CT4521TWwAEvMyu.jpg   \n",
       "3  666044226329800704  https://pbs.twimg.com/media/CT5Dr8HUEAA-lEu.jpg   \n",
       "4  666049248165822465  https://pbs.twimg.com/media/CT5IQmsXIAAKY4A.jpg   \n",
       "\n",
       "   img_num                      p1   p1_conf  p1_dog                  p2  \\\n",
       "0        1  Welsh_springer_spaniel  0.465074    True              collie   \n",
       "1        1                 redbone  0.506826    True  miniature_pinscher   \n",
       "2        1         German_shepherd  0.596461    True            malinois   \n",
       "3        1     Rhodesian_ridgeback  0.408143    True             redbone   \n",
       "4        1      miniature_pinscher  0.560311    True          Rottweiler   \n",
       "\n",
       "    p2_conf  p2_dog                   p3   p3_conf  p3_dog  \n",
       "0  0.156665    True    Shetland_sheepdog  0.061428    True  \n",
       "1  0.074192    True  Rhodesian_ridgeback  0.072010    True  \n",
       "2  0.138584    True           bloodhound  0.116197    True  \n",
       "3  0.360687    True   miniature_pinscher  0.222752    True  \n",
       "4  0.243682    True             Doberman  0.154629    True  "
      ]
     },
     "metadata": {},
     "output_type": "display_data"
    }
   ],
   "source": [
    "# Load data in a dataframe\n",
    "predictions = pd.read_csv('image-predictions.tsv', sep='\\t')\n",
    "\n",
    "# Display the first 5 tweets in the dataframe\n",
    "display(predictions.head(5))"
   ]
  },
  {
   "cell_type": "markdown",
   "metadata": {},
   "source": [
    "### 1.3 Extract data from twitter API\n",
    "Retweet count and favorite (like) count are two of the notable column omissions from the Twitter archive. Fortunately, this additional data can be gathered, along with any additional interesting data by using tweepy library. The tweet IDs in the @WeRateDogs Twitter archive were used to query the Twitter API for each tweet's JSON data, and store each tweet's entire set of JSON data in a file called tweet_json.txt."
   ]
  },
  {
   "cell_type": "markdown",
   "metadata": {},
   "source": [
    "Query the Twitter API for each tweet's JSON data using the tweet IDs in the @WeRateDogs Twitter archive:"
   ]
  },
  {
   "cell_type": "code",
   "execution_count": null,
   "metadata": {
    "collapsed": true,
    "scrolled": true
   },
   "outputs": [],
   "source": [
    "# Twitter App access keys\n",
    "CONSUMER_KEY = 'VzI0fT52DlveqUujI3palCpJg'\n",
    "CONSUMER_SECRET = 'PZIqatK1ru0CwP5j005cUfyLnK9ln4L3yQ7rcqj39IGabUZJmy'\n",
    "ACCESS_TOKEN = '993463135628603392-bKy2yimaawwVTnRHQrsx4larIRVb6vF'\n",
    "ACCESS_SECRET = 'RfD11bGE7julkqpEFuWFQ1wR0fKBilTNQ4hb2M8cUuPjk'\n",
    "\n",
    "# Twitter API setup\n",
    "def twitter_setup():\n",
    "    \"\"\"\n",
    "    a function for setting up the Twitter's API with the access keys provided.\n",
    "    \"\"\"\n",
    "    # Authentication and access using keys:\n",
    "    auth = tweepy.OAuthHandler(CONSUMER_KEY, CONSUMER_SECRET)\n",
    "    auth.set_access_token(ACCESS_TOKEN, ACCESS_SECRET)\n",
    "\n",
    "    # Return API with authentication:\n",
    "    api = tweepy.API(auth)\n",
    "    return api"
   ]
  },
  {
   "cell_type": "code",
   "execution_count": null,
   "metadata": {
    "collapsed": true,
    "scrolled": true
   },
   "outputs": [],
   "source": [
    "# Setting up Twitter API\n",
    "api = twitter_setup()\n",
    "\n",
    "# Tweet IDs for which to gather additional data via Twitter's API\n",
    "tweet_ids = archive.tweet_id.values\n",
    "len(tweet_ids)\n",
    "\n",
    "# Query Twitter's API for JSON data for each tweet ID in the Twitter archive\n",
    "count = 0\n",
    "fails_dict = {}\n",
    "start = timer()\n",
    "# Store each tweet's entire set of JSON data in a file called tweet_json.txt\n",
    "with open('tweet_json.txt', 'w') as outfile:\n",
    "    # This loop will likely take 20-30 minutes to run because of Twitter's rate limit\n",
    "    for tweet_id in tweet_ids:\n",
    "        count += 1\n",
    "        print(str(count) + \": \" + str(tweet_id))\n",
    "        try:\n",
    "            tweet = api.get_status(tweet_id, tweet_mode='extended')\n",
    "            print(\"Success\")\n",
    "            json.dump(tweet._json, outfile)\n",
    "            outfile.write('\\n')\n",
    "        except tweepy.TweepError as e:\n",
    "            print(\"Fail\")\n",
    "            fails_dict[tweet_id] = e\n",
    "            pass\n",
    "end = timer()\n",
    "print(end - start)\n",
    "print(fails_dict)"
   ]
  },
  {
   "cell_type": "code",
   "execution_count": 8,
   "metadata": {
    "scrolled": true
   },
   "outputs": [
    {
     "data": {
      "text/html": [
       "<div>\n",
       "<style>\n",
       "    .dataframe thead tr:only-child th {\n",
       "        text-align: right;\n",
       "    }\n",
       "\n",
       "    .dataframe thead th {\n",
       "        text-align: left;\n",
       "    }\n",
       "\n",
       "    .dataframe tbody tr th {\n",
       "        vertical-align: top;\n",
       "    }\n",
       "</style>\n",
       "<table border=\"1\" class=\"dataframe\">\n",
       "  <thead>\n",
       "    <tr style=\"text-align: right;\">\n",
       "      <th></th>\n",
       "      <th>favorite_count</th>\n",
       "      <th>id</th>\n",
       "      <th>retweet_count</th>\n",
       "    </tr>\n",
       "  </thead>\n",
       "  <tbody>\n",
       "    <tr>\n",
       "      <th>0</th>\n",
       "      <td>38015</td>\n",
       "      <td>892420643555336193</td>\n",
       "      <td>8315</td>\n",
       "    </tr>\n",
       "    <tr>\n",
       "      <th>1</th>\n",
       "      <td>32639</td>\n",
       "      <td>892177421306343426</td>\n",
       "      <td>6142</td>\n",
       "    </tr>\n",
       "    <tr>\n",
       "      <th>2</th>\n",
       "      <td>24565</td>\n",
       "      <td>891815181378084864</td>\n",
       "      <td>4067</td>\n",
       "    </tr>\n",
       "    <tr>\n",
       "      <th>3</th>\n",
       "      <td>41364</td>\n",
       "      <td>891689557279858688</td>\n",
       "      <td>8459</td>\n",
       "    </tr>\n",
       "    <tr>\n",
       "      <th>4</th>\n",
       "      <td>39552</td>\n",
       "      <td>891327558926688256</td>\n",
       "      <td>9157</td>\n",
       "    </tr>\n",
       "  </tbody>\n",
       "</table>\n",
       "</div>"
      ],
      "text/plain": [
       "   favorite_count                  id  retweet_count\n",
       "0           38015  892420643555336193           8315\n",
       "1           32639  892177421306343426           6142\n",
       "2           24565  891815181378084864           4067\n",
       "3           41364  891689557279858688           8459\n",
       "4           39552  891327558926688256           9157"
      ]
     },
     "metadata": {},
     "output_type": "display_data"
    }
   ],
   "source": [
    "# Read tweet_json.txt file line by line into a pandas dataframe with tweet ID, retweet count, and favorite count.\n",
    "columns = ['id', 'favorite_count', 'retweet_count']\n",
    "\n",
    "data = []\n",
    "\n",
    "with open('tweet_json.txt', 'r') as file: \n",
    "    # Read in JSON line and convert to dict\n",
    "    json_line = file.readline()\n",
    "    # Read line by line into a dataframe\n",
    "    while json_line:\n",
    "        line = json.loads(json_line)\n",
    "        row = dict((k, line[k]) for k in columns)\n",
    "        data.append(row)\n",
    "        # Read a JSON line and convert it to a dictionary\n",
    "        json_line = file.readline()\n",
    "\n",
    "# Convert the dictionary to a dataframe\n",
    "tweets = pd.DataFrame.from_dict(data)\n",
    "display(tweets.head(5))"
   ]
  },
  {
   "cell_type": "markdown",
   "metadata": {},
   "source": [
    "## 2. Assessing Data\n",
    "* Assess data visually and programmatically using pandas.\n",
    "* Distinguish between dirty data (content or “quality” issues) and messy data (structural or “tidiness” issues)\n",
    "* Identify data quality issues and categorize them using metrics:\n",
    "    validity, accuracy, completeness, consistency, and uniformity"
   ]
  },
  {
   "cell_type": "markdown",
   "metadata": {},
   "source": [
    "### 2.1 Visual Assessment\n",
    "Visually assess each piece of gathered data."
   ]
  },
  {
   "cell_type": "code",
   "execution_count": 9,
   "metadata": {
    "scrolled": true
   },
   "outputs": [
    {
     "data": {
      "text/html": [
       "<div>\n",
       "<style>\n",
       "    .dataframe thead tr:only-child th {\n",
       "        text-align: right;\n",
       "    }\n",
       "\n",
       "    .dataframe thead th {\n",
       "        text-align: left;\n",
       "    }\n",
       "\n",
       "    .dataframe tbody tr th {\n",
       "        vertical-align: top;\n",
       "    }\n",
       "</style>\n",
       "<table border=\"1\" class=\"dataframe\">\n",
       "  <thead>\n",
       "    <tr style=\"text-align: right;\">\n",
       "      <th></th>\n",
       "      <th>tweet_id</th>\n",
       "      <th>in_reply_to_status_id</th>\n",
       "      <th>in_reply_to_user_id</th>\n",
       "      <th>timestamp</th>\n",
       "      <th>source</th>\n",
       "      <th>text</th>\n",
       "      <th>retweeted_status_id</th>\n",
       "      <th>retweeted_status_user_id</th>\n",
       "      <th>retweeted_status_timestamp</th>\n",
       "      <th>expanded_urls</th>\n",
       "      <th>rating_numerator</th>\n",
       "      <th>rating_denominator</th>\n",
       "      <th>name</th>\n",
       "      <th>doggo</th>\n",
       "      <th>floofer</th>\n",
       "      <th>pupper</th>\n",
       "      <th>puppo</th>\n",
       "    </tr>\n",
       "  </thead>\n",
       "  <tbody>\n",
       "    <tr>\n",
       "      <th>0</th>\n",
       "      <td>892420643555336193</td>\n",
       "      <td>NaN</td>\n",
       "      <td>NaN</td>\n",
       "      <td>2017-08-01 16:23:56 +0000</td>\n",
       "      <td>&lt;a href=\"http://twitter.com/download/iphone\" r...</td>\n",
       "      <td>This is Phineas. He's a mystical boy. Only eve...</td>\n",
       "      <td>NaN</td>\n",
       "      <td>NaN</td>\n",
       "      <td>NaN</td>\n",
       "      <td>https://twitter.com/dog_rates/status/892420643...</td>\n",
       "      <td>13</td>\n",
       "      <td>10</td>\n",
       "      <td>Phineas</td>\n",
       "      <td>None</td>\n",
       "      <td>None</td>\n",
       "      <td>None</td>\n",
       "      <td>None</td>\n",
       "    </tr>\n",
       "    <tr>\n",
       "      <th>1</th>\n",
       "      <td>892177421306343426</td>\n",
       "      <td>NaN</td>\n",
       "      <td>NaN</td>\n",
       "      <td>2017-08-01 00:17:27 +0000</td>\n",
       "      <td>&lt;a href=\"http://twitter.com/download/iphone\" r...</td>\n",
       "      <td>This is Tilly. She's just checking pup on you....</td>\n",
       "      <td>NaN</td>\n",
       "      <td>NaN</td>\n",
       "      <td>NaN</td>\n",
       "      <td>https://twitter.com/dog_rates/status/892177421...</td>\n",
       "      <td>13</td>\n",
       "      <td>10</td>\n",
       "      <td>Tilly</td>\n",
       "      <td>None</td>\n",
       "      <td>None</td>\n",
       "      <td>None</td>\n",
       "      <td>None</td>\n",
       "    </tr>\n",
       "    <tr>\n",
       "      <th>2</th>\n",
       "      <td>891815181378084864</td>\n",
       "      <td>NaN</td>\n",
       "      <td>NaN</td>\n",
       "      <td>2017-07-31 00:18:03 +0000</td>\n",
       "      <td>&lt;a href=\"http://twitter.com/download/iphone\" r...</td>\n",
       "      <td>This is Archie. He is a rare Norwegian Pouncin...</td>\n",
       "      <td>NaN</td>\n",
       "      <td>NaN</td>\n",
       "      <td>NaN</td>\n",
       "      <td>https://twitter.com/dog_rates/status/891815181...</td>\n",
       "      <td>12</td>\n",
       "      <td>10</td>\n",
       "      <td>Archie</td>\n",
       "      <td>None</td>\n",
       "      <td>None</td>\n",
       "      <td>None</td>\n",
       "      <td>None</td>\n",
       "    </tr>\n",
       "    <tr>\n",
       "      <th>3</th>\n",
       "      <td>891689557279858688</td>\n",
       "      <td>NaN</td>\n",
       "      <td>NaN</td>\n",
       "      <td>2017-07-30 15:58:51 +0000</td>\n",
       "      <td>&lt;a href=\"http://twitter.com/download/iphone\" r...</td>\n",
       "      <td>This is Darla. She commenced a snooze mid meal...</td>\n",
       "      <td>NaN</td>\n",
       "      <td>NaN</td>\n",
       "      <td>NaN</td>\n",
       "      <td>https://twitter.com/dog_rates/status/891689557...</td>\n",
       "      <td>13</td>\n",
       "      <td>10</td>\n",
       "      <td>Darla</td>\n",
       "      <td>None</td>\n",
       "      <td>None</td>\n",
       "      <td>None</td>\n",
       "      <td>None</td>\n",
       "    </tr>\n",
       "    <tr>\n",
       "      <th>4</th>\n",
       "      <td>891327558926688256</td>\n",
       "      <td>NaN</td>\n",
       "      <td>NaN</td>\n",
       "      <td>2017-07-29 16:00:24 +0000</td>\n",
       "      <td>&lt;a href=\"http://twitter.com/download/iphone\" r...</td>\n",
       "      <td>This is Franklin. He would like you to stop ca...</td>\n",
       "      <td>NaN</td>\n",
       "      <td>NaN</td>\n",
       "      <td>NaN</td>\n",
       "      <td>https://twitter.com/dog_rates/status/891327558...</td>\n",
       "      <td>12</td>\n",
       "      <td>10</td>\n",
       "      <td>Franklin</td>\n",
       "      <td>None</td>\n",
       "      <td>None</td>\n",
       "      <td>None</td>\n",
       "      <td>None</td>\n",
       "    </tr>\n",
       "    <tr>\n",
       "      <th>5</th>\n",
       "      <td>891087950875897856</td>\n",
       "      <td>NaN</td>\n",
       "      <td>NaN</td>\n",
       "      <td>2017-07-29 00:08:17 +0000</td>\n",
       "      <td>&lt;a href=\"http://twitter.com/download/iphone\" r...</td>\n",
       "      <td>Here we have a majestic great white breaching ...</td>\n",
       "      <td>NaN</td>\n",
       "      <td>NaN</td>\n",
       "      <td>NaN</td>\n",
       "      <td>https://twitter.com/dog_rates/status/891087950...</td>\n",
       "      <td>13</td>\n",
       "      <td>10</td>\n",
       "      <td>None</td>\n",
       "      <td>None</td>\n",
       "      <td>None</td>\n",
       "      <td>None</td>\n",
       "      <td>None</td>\n",
       "    </tr>\n",
       "    <tr>\n",
       "      <th>6</th>\n",
       "      <td>890971913173991426</td>\n",
       "      <td>NaN</td>\n",
       "      <td>NaN</td>\n",
       "      <td>2017-07-28 16:27:12 +0000</td>\n",
       "      <td>&lt;a href=\"http://twitter.com/download/iphone\" r...</td>\n",
       "      <td>Meet Jax. He enjoys ice cream so much he gets ...</td>\n",
       "      <td>NaN</td>\n",
       "      <td>NaN</td>\n",
       "      <td>NaN</td>\n",
       "      <td>https://gofundme.com/ydvmve-surgery-for-jax,ht...</td>\n",
       "      <td>13</td>\n",
       "      <td>10</td>\n",
       "      <td>Jax</td>\n",
       "      <td>None</td>\n",
       "      <td>None</td>\n",
       "      <td>None</td>\n",
       "      <td>None</td>\n",
       "    </tr>\n",
       "    <tr>\n",
       "      <th>7</th>\n",
       "      <td>890729181411237888</td>\n",
       "      <td>NaN</td>\n",
       "      <td>NaN</td>\n",
       "      <td>2017-07-28 00:22:40 +0000</td>\n",
       "      <td>&lt;a href=\"http://twitter.com/download/iphone\" r...</td>\n",
       "      <td>When you watch your owner call another dog a g...</td>\n",
       "      <td>NaN</td>\n",
       "      <td>NaN</td>\n",
       "      <td>NaN</td>\n",
       "      <td>https://twitter.com/dog_rates/status/890729181...</td>\n",
       "      <td>13</td>\n",
       "      <td>10</td>\n",
       "      <td>None</td>\n",
       "      <td>None</td>\n",
       "      <td>None</td>\n",
       "      <td>None</td>\n",
       "      <td>None</td>\n",
       "    </tr>\n",
       "    <tr>\n",
       "      <th>8</th>\n",
       "      <td>890609185150312448</td>\n",
       "      <td>NaN</td>\n",
       "      <td>NaN</td>\n",
       "      <td>2017-07-27 16:25:51 +0000</td>\n",
       "      <td>&lt;a href=\"http://twitter.com/download/iphone\" r...</td>\n",
       "      <td>This is Zoey. She doesn't want to be one of th...</td>\n",
       "      <td>NaN</td>\n",
       "      <td>NaN</td>\n",
       "      <td>NaN</td>\n",
       "      <td>https://twitter.com/dog_rates/status/890609185...</td>\n",
       "      <td>13</td>\n",
       "      <td>10</td>\n",
       "      <td>Zoey</td>\n",
       "      <td>None</td>\n",
       "      <td>None</td>\n",
       "      <td>None</td>\n",
       "      <td>None</td>\n",
       "    </tr>\n",
       "    <tr>\n",
       "      <th>9</th>\n",
       "      <td>890240255349198849</td>\n",
       "      <td>NaN</td>\n",
       "      <td>NaN</td>\n",
       "      <td>2017-07-26 15:59:51 +0000</td>\n",
       "      <td>&lt;a href=\"http://twitter.com/download/iphone\" r...</td>\n",
       "      <td>This is Cassie. She is a college pup. Studying...</td>\n",
       "      <td>NaN</td>\n",
       "      <td>NaN</td>\n",
       "      <td>NaN</td>\n",
       "      <td>https://twitter.com/dog_rates/status/890240255...</td>\n",
       "      <td>14</td>\n",
       "      <td>10</td>\n",
       "      <td>Cassie</td>\n",
       "      <td>doggo</td>\n",
       "      <td>None</td>\n",
       "      <td>None</td>\n",
       "      <td>None</td>\n",
       "    </tr>\n",
       "  </tbody>\n",
       "</table>\n",
       "</div>"
      ],
      "text/plain": [
       "             tweet_id  in_reply_to_status_id  in_reply_to_user_id  \\\n",
       "0  892420643555336193                    NaN                  NaN   \n",
       "1  892177421306343426                    NaN                  NaN   \n",
       "2  891815181378084864                    NaN                  NaN   \n",
       "3  891689557279858688                    NaN                  NaN   \n",
       "4  891327558926688256                    NaN                  NaN   \n",
       "5  891087950875897856                    NaN                  NaN   \n",
       "6  890971913173991426                    NaN                  NaN   \n",
       "7  890729181411237888                    NaN                  NaN   \n",
       "8  890609185150312448                    NaN                  NaN   \n",
       "9  890240255349198849                    NaN                  NaN   \n",
       "\n",
       "                   timestamp  \\\n",
       "0  2017-08-01 16:23:56 +0000   \n",
       "1  2017-08-01 00:17:27 +0000   \n",
       "2  2017-07-31 00:18:03 +0000   \n",
       "3  2017-07-30 15:58:51 +0000   \n",
       "4  2017-07-29 16:00:24 +0000   \n",
       "5  2017-07-29 00:08:17 +0000   \n",
       "6  2017-07-28 16:27:12 +0000   \n",
       "7  2017-07-28 00:22:40 +0000   \n",
       "8  2017-07-27 16:25:51 +0000   \n",
       "9  2017-07-26 15:59:51 +0000   \n",
       "\n",
       "                                              source  \\\n",
       "0  <a href=\"http://twitter.com/download/iphone\" r...   \n",
       "1  <a href=\"http://twitter.com/download/iphone\" r...   \n",
       "2  <a href=\"http://twitter.com/download/iphone\" r...   \n",
       "3  <a href=\"http://twitter.com/download/iphone\" r...   \n",
       "4  <a href=\"http://twitter.com/download/iphone\" r...   \n",
       "5  <a href=\"http://twitter.com/download/iphone\" r...   \n",
       "6  <a href=\"http://twitter.com/download/iphone\" r...   \n",
       "7  <a href=\"http://twitter.com/download/iphone\" r...   \n",
       "8  <a href=\"http://twitter.com/download/iphone\" r...   \n",
       "9  <a href=\"http://twitter.com/download/iphone\" r...   \n",
       "\n",
       "                                                text  retweeted_status_id  \\\n",
       "0  This is Phineas. He's a mystical boy. Only eve...                  NaN   \n",
       "1  This is Tilly. She's just checking pup on you....                  NaN   \n",
       "2  This is Archie. He is a rare Norwegian Pouncin...                  NaN   \n",
       "3  This is Darla. She commenced a snooze mid meal...                  NaN   \n",
       "4  This is Franklin. He would like you to stop ca...                  NaN   \n",
       "5  Here we have a majestic great white breaching ...                  NaN   \n",
       "6  Meet Jax. He enjoys ice cream so much he gets ...                  NaN   \n",
       "7  When you watch your owner call another dog a g...                  NaN   \n",
       "8  This is Zoey. She doesn't want to be one of th...                  NaN   \n",
       "9  This is Cassie. She is a college pup. Studying...                  NaN   \n",
       "\n",
       "   retweeted_status_user_id retweeted_status_timestamp  \\\n",
       "0                       NaN                        NaN   \n",
       "1                       NaN                        NaN   \n",
       "2                       NaN                        NaN   \n",
       "3                       NaN                        NaN   \n",
       "4                       NaN                        NaN   \n",
       "5                       NaN                        NaN   \n",
       "6                       NaN                        NaN   \n",
       "7                       NaN                        NaN   \n",
       "8                       NaN                        NaN   \n",
       "9                       NaN                        NaN   \n",
       "\n",
       "                                       expanded_urls  rating_numerator  \\\n",
       "0  https://twitter.com/dog_rates/status/892420643...                13   \n",
       "1  https://twitter.com/dog_rates/status/892177421...                13   \n",
       "2  https://twitter.com/dog_rates/status/891815181...                12   \n",
       "3  https://twitter.com/dog_rates/status/891689557...                13   \n",
       "4  https://twitter.com/dog_rates/status/891327558...                12   \n",
       "5  https://twitter.com/dog_rates/status/891087950...                13   \n",
       "6  https://gofundme.com/ydvmve-surgery-for-jax,ht...                13   \n",
       "7  https://twitter.com/dog_rates/status/890729181...                13   \n",
       "8  https://twitter.com/dog_rates/status/890609185...                13   \n",
       "9  https://twitter.com/dog_rates/status/890240255...                14   \n",
       "\n",
       "   rating_denominator      name  doggo floofer pupper puppo  \n",
       "0                  10   Phineas   None    None   None  None  \n",
       "1                  10     Tilly   None    None   None  None  \n",
       "2                  10    Archie   None    None   None  None  \n",
       "3                  10     Darla   None    None   None  None  \n",
       "4                  10  Franklin   None    None   None  None  \n",
       "5                  10      None   None    None   None  None  \n",
       "6                  10       Jax   None    None   None  None  \n",
       "7                  10      None   None    None   None  None  \n",
       "8                  10      Zoey   None    None   None  None  \n",
       "9                  10    Cassie  doggo    None   None  None  "
      ]
     },
     "execution_count": 9,
     "metadata": {},
     "output_type": "execute_result"
    }
   ],
   "source": [
    "archive.head(10)"
   ]
  },
  {
   "cell_type": "code",
   "execution_count": 10,
   "metadata": {
    "scrolled": true
   },
   "outputs": [
    {
     "data": {
      "text/html": [
       "<div>\n",
       "<style>\n",
       "    .dataframe thead tr:only-child th {\n",
       "        text-align: right;\n",
       "    }\n",
       "\n",
       "    .dataframe thead th {\n",
       "        text-align: left;\n",
       "    }\n",
       "\n",
       "    .dataframe tbody tr th {\n",
       "        vertical-align: top;\n",
       "    }\n",
       "</style>\n",
       "<table border=\"1\" class=\"dataframe\">\n",
       "  <thead>\n",
       "    <tr style=\"text-align: right;\">\n",
       "      <th></th>\n",
       "      <th>tweet_id</th>\n",
       "      <th>jpg_url</th>\n",
       "      <th>img_num</th>\n",
       "      <th>p1</th>\n",
       "      <th>p1_conf</th>\n",
       "      <th>p1_dog</th>\n",
       "      <th>p2</th>\n",
       "      <th>p2_conf</th>\n",
       "      <th>p2_dog</th>\n",
       "      <th>p3</th>\n",
       "      <th>p3_conf</th>\n",
       "      <th>p3_dog</th>\n",
       "    </tr>\n",
       "  </thead>\n",
       "  <tbody>\n",
       "    <tr>\n",
       "      <th>0</th>\n",
       "      <td>666020888022790149</td>\n",
       "      <td>https://pbs.twimg.com/media/CT4udn0WwAA0aMy.jpg</td>\n",
       "      <td>1</td>\n",
       "      <td>Welsh_springer_spaniel</td>\n",
       "      <td>0.465074</td>\n",
       "      <td>True</td>\n",
       "      <td>collie</td>\n",
       "      <td>0.156665</td>\n",
       "      <td>True</td>\n",
       "      <td>Shetland_sheepdog</td>\n",
       "      <td>0.061428</td>\n",
       "      <td>True</td>\n",
       "    </tr>\n",
       "    <tr>\n",
       "      <th>1</th>\n",
       "      <td>666029285002620928</td>\n",
       "      <td>https://pbs.twimg.com/media/CT42GRgUYAA5iDo.jpg</td>\n",
       "      <td>1</td>\n",
       "      <td>redbone</td>\n",
       "      <td>0.506826</td>\n",
       "      <td>True</td>\n",
       "      <td>miniature_pinscher</td>\n",
       "      <td>0.074192</td>\n",
       "      <td>True</td>\n",
       "      <td>Rhodesian_ridgeback</td>\n",
       "      <td>0.072010</td>\n",
       "      <td>True</td>\n",
       "    </tr>\n",
       "    <tr>\n",
       "      <th>2</th>\n",
       "      <td>666033412701032449</td>\n",
       "      <td>https://pbs.twimg.com/media/CT4521TWwAEvMyu.jpg</td>\n",
       "      <td>1</td>\n",
       "      <td>German_shepherd</td>\n",
       "      <td>0.596461</td>\n",
       "      <td>True</td>\n",
       "      <td>malinois</td>\n",
       "      <td>0.138584</td>\n",
       "      <td>True</td>\n",
       "      <td>bloodhound</td>\n",
       "      <td>0.116197</td>\n",
       "      <td>True</td>\n",
       "    </tr>\n",
       "  </tbody>\n",
       "</table>\n",
       "</div>"
      ],
      "text/plain": [
       "             tweet_id                                          jpg_url  \\\n",
       "0  666020888022790149  https://pbs.twimg.com/media/CT4udn0WwAA0aMy.jpg   \n",
       "1  666029285002620928  https://pbs.twimg.com/media/CT42GRgUYAA5iDo.jpg   \n",
       "2  666033412701032449  https://pbs.twimg.com/media/CT4521TWwAEvMyu.jpg   \n",
       "\n",
       "   img_num                      p1   p1_conf  p1_dog                  p2  \\\n",
       "0        1  Welsh_springer_spaniel  0.465074    True              collie   \n",
       "1        1                 redbone  0.506826    True  miniature_pinscher   \n",
       "2        1         German_shepherd  0.596461    True            malinois   \n",
       "\n",
       "    p2_conf  p2_dog                   p3   p3_conf  p3_dog  \n",
       "0  0.156665    True    Shetland_sheepdog  0.061428    True  \n",
       "1  0.074192    True  Rhodesian_ridgeback  0.072010    True  \n",
       "2  0.138584    True           bloodhound  0.116197    True  "
      ]
     },
     "execution_count": 10,
     "metadata": {},
     "output_type": "execute_result"
    }
   ],
   "source": [
    "predictions.head(3)"
   ]
  },
  {
   "cell_type": "code",
   "execution_count": 11,
   "metadata": {
    "scrolled": true
   },
   "outputs": [
    {
     "data": {
      "text/html": [
       "<div>\n",
       "<style>\n",
       "    .dataframe thead tr:only-child th {\n",
       "        text-align: right;\n",
       "    }\n",
       "\n",
       "    .dataframe thead th {\n",
       "        text-align: left;\n",
       "    }\n",
       "\n",
       "    .dataframe tbody tr th {\n",
       "        vertical-align: top;\n",
       "    }\n",
       "</style>\n",
       "<table border=\"1\" class=\"dataframe\">\n",
       "  <thead>\n",
       "    <tr style=\"text-align: right;\">\n",
       "      <th></th>\n",
       "      <th>favorite_count</th>\n",
       "      <th>id</th>\n",
       "      <th>retweet_count</th>\n",
       "    </tr>\n",
       "  </thead>\n",
       "  <tbody>\n",
       "    <tr>\n",
       "      <th>0</th>\n",
       "      <td>38015</td>\n",
       "      <td>892420643555336193</td>\n",
       "      <td>8315</td>\n",
       "    </tr>\n",
       "    <tr>\n",
       "      <th>1</th>\n",
       "      <td>32639</td>\n",
       "      <td>892177421306343426</td>\n",
       "      <td>6142</td>\n",
       "    </tr>\n",
       "    <tr>\n",
       "      <th>2</th>\n",
       "      <td>24565</td>\n",
       "      <td>891815181378084864</td>\n",
       "      <td>4067</td>\n",
       "    </tr>\n",
       "  </tbody>\n",
       "</table>\n",
       "</div>"
      ],
      "text/plain": [
       "   favorite_count                  id  retweet_count\n",
       "0           38015  892420643555336193           8315\n",
       "1           32639  892177421306343426           6142\n",
       "2           24565  891815181378084864           4067"
      ]
     },
     "execution_count": 11,
     "metadata": {},
     "output_type": "execute_result"
    }
   ],
   "source": [
    "tweets.head(3)"
   ]
  },
  {
   "cell_type": "markdown",
   "metadata": {},
   "source": [
    "### 2.2 Programmatic Assessment"
   ]
  },
  {
   "cell_type": "markdown",
   "metadata": {},
   "source": [
    "Investigate data shape, types, and size:"
   ]
  },
  {
   "cell_type": "code",
   "execution_count": 12,
   "metadata": {
    "scrolled": true
   },
   "outputs": [
    {
     "name": "stdout",
     "output_type": "stream",
     "text": [
      "<class 'pandas.core.frame.DataFrame'>\n",
      "RangeIndex: 2356 entries, 0 to 2355\n",
      "Data columns (total 17 columns):\n",
      "tweet_id                      2356 non-null int64\n",
      "in_reply_to_status_id         78 non-null float64\n",
      "in_reply_to_user_id           78 non-null float64\n",
      "timestamp                     2356 non-null object\n",
      "source                        2356 non-null object\n",
      "text                          2356 non-null object\n",
      "retweeted_status_id           181 non-null float64\n",
      "retweeted_status_user_id      181 non-null float64\n",
      "retweeted_status_timestamp    181 non-null object\n",
      "expanded_urls                 2297 non-null object\n",
      "rating_numerator              2356 non-null int64\n",
      "rating_denominator            2356 non-null int64\n",
      "name                          2356 non-null object\n",
      "doggo                         2356 non-null object\n",
      "floofer                       2356 non-null object\n",
      "pupper                        2356 non-null object\n",
      "puppo                         2356 non-null object\n",
      "dtypes: float64(4), int64(3), object(10)\n",
      "memory usage: 313.0+ KB\n"
     ]
    }
   ],
   "source": [
    "archive.info()"
   ]
  },
  {
   "cell_type": "code",
   "execution_count": 13,
   "metadata": {
    "scrolled": true
   },
   "outputs": [
    {
     "name": "stdout",
     "output_type": "stream",
     "text": [
      "<class 'pandas.core.frame.DataFrame'>\n",
      "RangeIndex: 2075 entries, 0 to 2074\n",
      "Data columns (total 12 columns):\n",
      "tweet_id    2075 non-null int64\n",
      "jpg_url     2075 non-null object\n",
      "img_num     2075 non-null int64\n",
      "p1          2075 non-null object\n",
      "p1_conf     2075 non-null float64\n",
      "p1_dog      2075 non-null bool\n",
      "p2          2075 non-null object\n",
      "p2_conf     2075 non-null float64\n",
      "p2_dog      2075 non-null bool\n",
      "p3          2075 non-null object\n",
      "p3_conf     2075 non-null float64\n",
      "p3_dog      2075 non-null bool\n",
      "dtypes: bool(3), float64(3), int64(2), object(4)\n",
      "memory usage: 152.1+ KB\n"
     ]
    }
   ],
   "source": [
    "predictions.info()"
   ]
  },
  {
   "cell_type": "code",
   "execution_count": 14,
   "metadata": {
    "scrolled": true
   },
   "outputs": [
    {
     "name": "stdout",
     "output_type": "stream",
     "text": [
      "<class 'pandas.core.frame.DataFrame'>\n",
      "RangeIndex: 2189 entries, 0 to 2188\n",
      "Data columns (total 3 columns):\n",
      "favorite_count    2189 non-null int64\n",
      "id                2189 non-null int64\n",
      "retweet_count     2189 non-null int64\n",
      "dtypes: int64(3)\n",
      "memory usage: 51.4 KB\n"
     ]
    }
   ],
   "source": [
    "tweets.info()"
   ]
  },
  {
   "cell_type": "markdown",
   "metadata": {},
   "source": [
    "There are 2075 rows in the image predictions dataframe and 2356 rows in the archive dataframe."
   ]
  },
  {
   "cell_type": "markdown",
   "metadata": {},
   "source": [
    "Check for duplicates:"
   ]
  },
  {
   "cell_type": "code",
   "execution_count": 15,
   "metadata": {
    "scrolled": true
   },
   "outputs": [
    {
     "data": {
      "text/plain": [
       "0"
      ]
     },
     "execution_count": 15,
     "metadata": {},
     "output_type": "execute_result"
    }
   ],
   "source": [
    "sum(archive.tweet_id.duplicated())"
   ]
  },
  {
   "cell_type": "code",
   "execution_count": 16,
   "metadata": {
    "scrolled": true
   },
   "outputs": [
    {
     "data": {
      "text/plain": [
       "0"
      ]
     },
     "execution_count": 16,
     "metadata": {},
     "output_type": "execute_result"
    }
   ],
   "source": [
    "sum(predictions.tweet_id.duplicated())"
   ]
  },
  {
   "cell_type": "code",
   "execution_count": 17,
   "metadata": {
    "scrolled": true
   },
   "outputs": [
    {
     "data": {
      "text/plain": [
       "0"
      ]
     },
     "execution_count": 17,
     "metadata": {},
     "output_type": "execute_result"
    }
   ],
   "source": [
    "sum(tweets.id.duplicated())"
   ]
  },
  {
   "cell_type": "code",
   "execution_count": 18,
   "metadata": {
    "scrolled": true
   },
   "outputs": [
    {
     "data": {
      "text/plain": [
       "66"
      ]
     },
     "execution_count": 18,
     "metadata": {},
     "output_type": "execute_result"
    }
   ],
   "source": [
    "sum(predictions.jpg_url.duplicated())"
   ]
  },
  {
   "cell_type": "markdown",
   "metadata": {},
   "source": [
    "The name column has many entries which do not look like names. The most frequent entry in name column is \"a\", which is not a name."
   ]
  },
  {
   "cell_type": "code",
   "execution_count": 19,
   "metadata": {
    "scrolled": true
   },
   "outputs": [
    {
     "data": {
      "text/plain": [
       "None         745\n",
       "a             55\n",
       "Charlie       12\n",
       "Cooper        11\n",
       "Lucy          11\n",
       "Oliver        11\n",
       "Tucker        10\n",
       "Lola          10\n",
       "Penny         10\n",
       "Bo             9\n",
       "Winston        9\n",
       "the            8\n",
       "Sadie          8\n",
       "Buddy          7\n",
       "an             7\n",
       "Bailey         7\n",
       "Toby           7\n",
       "Daisy          7\n",
       "Bella          6\n",
       "Jack           6\n",
       "Leo            6\n",
       "Milo           6\n",
       "Stanley        6\n",
       "Dave           6\n",
       "Koda           6\n",
       "Jax            6\n",
       "Oscar          6\n",
       "Scout          6\n",
       "Rusty          6\n",
       "Phil           5\n",
       "            ... \n",
       "Deacon         1\n",
       "Brian          1\n",
       "Dallas         1\n",
       "Godzilla       1\n",
       "Pubert         1\n",
       "this           1\n",
       "Brandy         1\n",
       "Kulet          1\n",
       "Rueben         1\n",
       "Ebby           1\n",
       "Jiminus        1\n",
       "Lillie         1\n",
       "Rilo           1\n",
       "Raphael        1\n",
       "Rolf           1\n",
       "Nigel          1\n",
       "Ralph          1\n",
       "Nida           1\n",
       "O              1\n",
       "Dutch          1\n",
       "Yukon          1\n",
       "Shooter        1\n",
       "Jackie         1\n",
       "Nugget         1\n",
       "Eriq           1\n",
       "Hector         1\n",
       "Shnuggles      1\n",
       "Beya           1\n",
       "Mitch          1\n",
       "Aiden          1\n",
       "Name: name, Length: 957, dtype: int64"
      ]
     },
     "execution_count": 19,
     "metadata": {},
     "output_type": "execute_result"
    }
   ],
   "source": [
    "archive['name'].value_counts()"
   ]
  },
  {
   "cell_type": "markdown",
   "metadata": {},
   "source": [
    "There are 181 tweets with a retweeted_status_id that need to be removed."
   ]
  },
  {
   "cell_type": "code",
   "execution_count": 20,
   "metadata": {
    "scrolled": true
   },
   "outputs": [
    {
     "data": {
      "text/plain": [
       "7.757333e+17    1\n",
       "7.507196e+17    1\n",
       "6.742918e+17    1\n",
       "6.833919e+17    1\n",
       "8.269587e+17    1\n",
       "8.780576e+17    1\n",
       "7.320056e+17    1\n",
       "7.186315e+17    1\n",
       "6.732953e+17    1\n",
       "7.914070e+17    1\n",
       "8.447048e+17    1\n",
       "7.862340e+17    1\n",
       "8.685523e+17    1\n",
       "7.504293e+17    1\n",
       "8.327664e+17    1\n",
       "6.690004e+17    1\n",
       "6.873173e+17    1\n",
       "7.638376e+17    1\n",
       "7.815247e+17    1\n",
       "8.092201e+17    1\n",
       "8.000650e+17    1\n",
       "8.174239e+17    1\n",
       "8.001414e+17    1\n",
       "7.909461e+17    1\n",
       "7.867091e+17    1\n",
       "8.406323e+17    1\n",
       "8.688804e+17    1\n",
       "7.869631e+17    1\n",
       "7.733088e+17    1\n",
       "8.222448e+17    1\n",
       "               ..\n",
       "6.816941e+17    1\n",
       "7.899865e+17    1\n",
       "7.939622e+17    1\n",
       "6.800555e+17    1\n",
       "7.128090e+17    1\n",
       "8.164506e+17    1\n",
       "6.769365e+17    1\n",
       "6.675487e+17    1\n",
       "8.083449e+17    1\n",
       "7.626999e+17    1\n",
       "6.678667e+17    1\n",
       "8.479710e+17    1\n",
       "6.820881e+17    1\n",
       "8.352641e+17    1\n",
       "7.761133e+17    1\n",
       "7.902771e+17    1\n",
       "6.675484e+17    1\n",
       "7.677549e+17    1\n",
       "8.782815e+17    1\n",
       "8.663350e+17    1\n",
       "7.399792e+17    1\n",
       "7.403732e+17    1\n",
       "8.395493e+17    1\n",
       "7.001438e+17    1\n",
       "8.482894e+17    1\n",
       "7.848260e+17    1\n",
       "7.806013e+17    1\n",
       "8.305833e+17    1\n",
       "7.047611e+17    1\n",
       "7.331095e+17    1\n",
       "Name: retweeted_status_id, Length: 181, dtype: int64"
      ]
     },
     "execution_count": 20,
     "metadata": {},
     "output_type": "execute_result"
    }
   ],
   "source": [
    "archive.retweeted_status_id.value_counts()"
   ]
  },
  {
   "cell_type": "markdown",
   "metadata": {},
   "source": [
    "There are a lot of columns with incorrect data types. For example, the timestamp column type is object not a datetime object."
   ]
  },
  {
   "cell_type": "code",
   "execution_count": 21,
   "metadata": {
    "scrolled": true
   },
   "outputs": [
    {
     "data": {
      "text/plain": [
       "pandas.core.series.Series"
      ]
     },
     "execution_count": 21,
     "metadata": {},
     "output_type": "execute_result"
    }
   ],
   "source": [
    "type(archive.timestamp)"
   ]
  },
  {
   "cell_type": "code",
   "execution_count": 22,
   "metadata": {},
   "outputs": [
    {
     "data": {
      "text/plain": [
       "pandas.core.series.Series"
      ]
     },
     "execution_count": 22,
     "metadata": {},
     "output_type": "execute_result"
    }
   ],
   "source": [
    "type(archive.text)"
   ]
  },
  {
   "cell_type": "markdown",
   "metadata": {},
   "source": [
    "### 2.3 Summary\n",
    "**Quality Issues**\n",
    "1. Some columns have inaccurate data types. For example, the timestamp and retweeted_status_timestamp columns are objects, although they should be datetime objects. Some other columns should be integers/strings instead of floats.\n",
    "2. Remove retweets, i.e. tweets that are not original or are responses.\n",
    "3. Remove tweets that are not ratings, i.e. tweets without images.\n",
    "4. The name column has many entries which do not look like names. The most frequent entry in name column is \"a\", which is not a name.\n",
    "5. There are unnecessary columns in the dataframes like source, img_num, expanded_urls, source, retweeted_status_id, retweeted_status_user_id, retweeted_status_timestamp, in_reply_to_status_id, and in_reply_to_user_id. The cleaned dataframe can be condensed.\n",
    "6. There are 2075 rows in the image predictions dataframe and 2356 rows in the archive dataframe. \n",
    "7. Remove tweets in predictions where all probabilities of p_dog are False, i.e. where the algorithm is certain the image is not a dog.\n",
    "8. The columns p1, p2, p3 in predictions are inconsistent in their capitalization.\n",
    "\n",
    "**Tidiness Issues**\n",
    "1. The columns doggo, floofer, pupper and puppo represent the dog stages, and should be collapsed into one column named dog_stage.\n",
    "2.  All three dataframes should be merged into one clean dataframe since they all hold information about the same entity; tweet.\n",
    "3. Sort the timestamp column."
   ]
  },
  {
   "cell_type": "markdown",
   "metadata": {},
   "source": [
    "## 3. Cleaning Data\n",
    "Cleaning all the data to fix the quality and tidiness issues identified in the Assessing Data step:\n",
    "* Identify each step of the data cleaning process (defining, coding, and testing)\n",
    "* Clean data using Python and pandas\n",
    "* Test cleaning code visually and programmatically using Python"
   ]
  },
  {
   "cell_type": "code",
   "execution_count": 24,
   "metadata": {
    "collapsed": true
   },
   "outputs": [],
   "source": [
    "# Prepare copies of original dataset to be cleaned\n",
    "cleaned_archive = archive.copy()\n",
    "cleaned_predictions = predictions.copy()\n",
    "cleaned_tweets = tweets.copy()"
   ]
  },
  {
   "cell_type": "markdown",
   "metadata": {},
   "source": [
    "_________________________"
   ]
  },
  {
   "cell_type": "markdown",
   "metadata": {},
   "source": [
    "**Define:**\n",
    "Change some of the columns data types in the cleaned_archive dataframe."
   ]
  },
  {
   "cell_type": "markdown",
   "metadata": {},
   "source": [
    "**Code:**"
   ]
  },
  {
   "cell_type": "code",
   "execution_count": 25,
   "metadata": {
    "collapsed": true,
    "scrolled": true
   },
   "outputs": [],
   "source": [
    "# Fix archive data types\n",
    "cleaned_archive['tweet_id'] = cleaned_archive['tweet_id'].astype(str)\n",
    "cleaned_archive['in_reply_to_status_id'] = cleaned_archive['in_reply_to_status_id'].astype(str)\n",
    "cleaned_archive['in_reply_to_user_id'] = cleaned_archive['in_reply_to_user_id'].astype(str)\n",
    "cleaned_archive['timestamp'] = pd.to_datetime(cleaned_archive.timestamp)\n",
    "cleaned_archive['source'] = cleaned_archive['source'].astype(str)\n",
    "cleaned_archive['retweeted_status_id'] = cleaned_archive['retweeted_status_id'].astype(str)\n",
    "cleaned_archive['retweeted_status_user_id'] = cleaned_archive['retweeted_status_user_id'].astype(str)\n",
    "cleaned_archive['retweeted_status_timestamp'] = pd.to_datetime(cleaned_archive.retweeted_status_timestamp)\n",
    "cleaned_archive['name'] = cleaned_archive['name'].astype(str)\n",
    "\n",
    "# Fix predictions data types\n",
    "cleaned_predictions['tweet_id'] = cleaned_predictions['tweet_id'].astype(str)\n",
    "cleaned_predictions['p1'] = cleaned_predictions['p1'].astype(str)\n",
    "cleaned_predictions['p2'] = cleaned_predictions['p2'].astype(str)\n",
    "cleaned_predictions['p3'] = cleaned_predictions['p3'].astype(str)\n",
    "\n",
    "# Fix tweets data types\n",
    "cleaned_tweets['id'] = cleaned_tweets['id'].astype(str)\n",
    "cleaned_tweets['favorite_count'] = cleaned_tweets['favorite_count'].astype(int)\n",
    "cleaned_tweets['retweet_count'] = cleaned_tweets['retweet_count'].astype(int)"
   ]
  },
  {
   "cell_type": "markdown",
   "metadata": {},
   "source": [
    "**Test:**"
   ]
  },
  {
   "cell_type": "code",
   "execution_count": 26,
   "metadata": {
    "scrolled": true
   },
   "outputs": [
    {
     "name": "stdout",
     "output_type": "stream",
     "text": [
      "archive \n",
      " tweet_id                              object\n",
      "in_reply_to_status_id                 object\n",
      "in_reply_to_user_id                   object\n",
      "timestamp                     datetime64[ns]\n",
      "source                                object\n",
      "text                                  object\n",
      "retweeted_status_id                   object\n",
      "retweeted_status_user_id              object\n",
      "retweeted_status_timestamp    datetime64[ns]\n",
      "expanded_urls                         object\n",
      "rating_numerator                       int64\n",
      "rating_denominator                     int64\n",
      "name                                  object\n",
      "doggo                                 object\n",
      "floofer                               object\n",
      "pupper                                object\n",
      "puppo                                 object\n",
      "dtype: object \n",
      "\n",
      "predictions \n",
      " tweet_id     object\n",
      "jpg_url      object\n",
      "img_num       int64\n",
      "p1           object\n",
      "p1_conf     float64\n",
      "p1_dog         bool\n",
      "p2           object\n",
      "p2_conf     float64\n",
      "p2_dog         bool\n",
      "p3           object\n",
      "p3_conf     float64\n",
      "p3_dog         bool\n",
      "dtype: object \n",
      "\n",
      "tweets \n",
      " favorite_count     int64\n",
      "id                object\n",
      "retweet_count      int64\n",
      "dtype: object \n",
      "\n"
     ]
    }
   ],
   "source": [
    "print('archive \\n {} \\n'.format(cleaned_archive.dtypes))\n",
    "print('predictions \\n {} \\n'.format(cleaned_predictions.dtypes))\n",
    "print('tweets \\n {} \\n'.format(cleaned_tweets.dtypes))"
   ]
  },
  {
   "cell_type": "markdown",
   "metadata": {},
   "source": [
    "_________________________"
   ]
  },
  {
   "cell_type": "markdown",
   "metadata": {},
   "source": [
    "**Define:**\n",
    "Remove retweets, i.e. tweets that are not original.\n",
    "or responses and delete their respective columns"
   ]
  },
  {
   "cell_type": "markdown",
   "metadata": {},
   "source": [
    "**Code:**"
   ]
  },
  {
   "cell_type": "code",
   "execution_count": 27,
   "metadata": {
    "collapsed": true,
    "scrolled": true
   },
   "outputs": [],
   "source": [
    "# Find and remove retweets by checking the retweet_count (represents the number of time the source tweet was retweeted)\n",
    "\n",
    "# Remove retweets\n",
    "retweets = cleaned_archive[cleaned_archive[\"retweeted_status_id\"]!=\"nan\"][\"tweet_id\"].index\n",
    "cleaned_archive.drop(retweets, inplace=True)\n",
    "\n",
    "# Remove responses\n",
    "responses = cleaned_archive[cleaned_archive[\"in_reply_to_status_id\"]!=\"nan\"][\"tweet_id\"].index\n",
    "cleaned_archive.drop(responses, inplace=True)\n",
    "\n",
    "# Remove their respective columns\n",
    "cleaned_archive.drop(['retweeted_status_id', 'retweeted_status_user_id', 'retweeted_status_timestamp'], axis = 1, inplace = True)"
   ]
  },
  {
   "cell_type": "markdown",
   "metadata": {},
   "source": [
    "**Test:**"
   ]
  },
  {
   "cell_type": "code",
   "execution_count": 28,
   "metadata": {
    "scrolled": true
   },
   "outputs": [
    {
     "data": {
      "text/plain": [
       "Index(['tweet_id', 'in_reply_to_status_id', 'in_reply_to_user_id', 'timestamp',\n",
       "       'source', 'text', 'expanded_urls', 'rating_numerator',\n",
       "       'rating_denominator', 'name', 'doggo', 'floofer', 'pupper', 'puppo'],\n",
       "      dtype='object')"
      ]
     },
     "execution_count": 28,
     "metadata": {},
     "output_type": "execute_result"
    }
   ],
   "source": [
    "cleaned_archive.columns"
   ]
  },
  {
   "cell_type": "markdown",
   "metadata": {},
   "source": [
    "_________________________"
   ]
  },
  {
   "cell_type": "markdown",
   "metadata": {},
   "source": [
    "**Define:**\n",
    "Remove tweets that are not ratings, i.e. tweets without images."
   ]
  },
  {
   "cell_type": "markdown",
   "metadata": {},
   "source": [
    "**Code:**"
   ]
  },
  {
   "cell_type": "code",
   "execution_count": 29,
   "metadata": {
    "collapsed": true,
    "scrolled": true
   },
   "outputs": [],
   "source": [
    "# Find the image predictions that have no images\n",
    "cleaned_predictions = cleaned_predictions[pd.notnull(cleaned_predictions['jpg_url'])]"
   ]
  },
  {
   "cell_type": "markdown",
   "metadata": {},
   "source": [
    "**Test:**"
   ]
  },
  {
   "cell_type": "code",
   "execution_count": 30,
   "metadata": {
    "scrolled": true
   },
   "outputs": [
    {
     "data": {
      "text/plain": [
       "0"
      ]
     },
     "execution_count": 30,
     "metadata": {},
     "output_type": "execute_result"
    }
   ],
   "source": [
    "len(cleaned_predictions[pd.isnull(cleaned_predictions['jpg_url'])])"
   ]
  },
  {
   "cell_type": "markdown",
   "metadata": {},
   "source": [
    "_________________________"
   ]
  },
  {
   "cell_type": "markdown",
   "metadata": {},
   "source": [
    "**Define:**\n",
    "The name column has many entries which do not look like names."
   ]
  },
  {
   "cell_type": "markdown",
   "metadata": {},
   "source": [
    "**Code:**"
   ]
  },
  {
   "cell_type": "code",
   "execution_count": 31,
   "metadata": {
    "collapsed": true
   },
   "outputs": [],
   "source": [
    "def extract_name(row):\n",
    "    # Split the tweet text into words\n",
    "    words = row['text'].split()\n",
    "    \n",
    "    name = 'None'\n",
    "    \n",
    "    # Extract name after certain expressions\n",
    "    if 'named' in words:\n",
    "        # Get the next word after it\n",
    "        name = words[words.index('named') + 1]\n",
    "    elif row['text'].startswith('This is ') and words[row['text'].index('This is') + 2] != 'a' and words[row['text'].index('This is') + 2] != 'an':\n",
    "        name = words[row['text'].index('This is') + 2]\n",
    "    elif row['text'].startswith('Say hello to'):\n",
    "        name = words[row['text'].index('Say hello to') + 3]\n",
    "    elif 'Meet' in words:\n",
    "        name = words[words.index('Meet') + 1]\n",
    "            \n",
    "    # Save name and remove any periods\n",
    "    row['name'] = name.replace('.','')\n",
    "    \n",
    "    # Return row whether updated or name\n",
    "    return row\n",
    "    \n",
    "cleaned_archive = cleaned_archive.apply(extract_name, axis=1)"
   ]
  },
  {
   "cell_type": "markdown",
   "metadata": {},
   "source": [
    "**Test:**"
   ]
  },
  {
   "cell_type": "code",
   "execution_count": 32,
   "metadata": {
    "scrolled": true
   },
   "outputs": [
    {
     "data": {
      "text/plain": [
       "None        665\n",
       "Charlie      11\n",
       "Lucy         11\n",
       "Cooper       10\n",
       "Oliver       10\n",
       "Tucker        9\n",
       "Penny         9\n",
       "Sadie         8\n",
       "Lola          8\n",
       "Winston       8\n",
       "Daisy         7\n",
       "Bailey        6\n",
       "Toby          6\n",
       "Bo            6\n",
       "Jax           6\n",
       "Stanley       6\n",
       "Bella         6\n",
       "Koda          6\n",
       "Oscar         6\n",
       "Rusty         5\n",
       "Chester       5\n",
       "Milo          5\n",
       "the           5\n",
       "Scout         5\n",
       "Bentley       5\n",
       "Buddy         5\n",
       "Louis         5\n",
       "Leo           5\n",
       "Reggie        4\n",
       "Jerry         4\n",
       "           ... \n",
       "Lassie        1\n",
       "Mairi         1\n",
       "Kawhi         1\n",
       "Nugget        1\n",
       "Jackie        1\n",
       "Samsom        1\n",
       "Jiminus       1\n",
       "Wylie         1\n",
       "Lance         1\n",
       "Blue          1\n",
       "Arlen         1\n",
       "Tedrick       1\n",
       "Florence      1\n",
       "Steve         1\n",
       "Kulet         1\n",
       "Hercules      1\n",
       "Ebby          1\n",
       "Kreggory      1\n",
       "Leroi         1\n",
       "Rilo          1\n",
       "Raphael       1\n",
       "Rolf          1\n",
       "Nigel         1\n",
       "Ralph         1\n",
       "Nida          1\n",
       "Rueben        1\n",
       "Yukon         1\n",
       "Johm          1\n",
       "Shooter       1\n",
       "Jockson       1\n",
       "Name: name, Length: 966, dtype: int64"
      ]
     },
     "execution_count": 32,
     "metadata": {},
     "output_type": "execute_result"
    }
   ],
   "source": [
    "cleaned_archive.name.value_counts()"
   ]
  },
  {
   "cell_type": "markdown",
   "metadata": {},
   "source": [
    "_________________________"
   ]
  },
  {
   "cell_type": "markdown",
   "metadata": {},
   "source": [
    "**Define:**\n",
    "Remove the unused/unneeded columns; source, retweeted_status_id, retweeted_status_user_id, retweeted_status_timestamp, in_reply_to_status_id, in_reply_to_user_id."
   ]
  },
  {
   "cell_type": "markdown",
   "metadata": {},
   "source": [
    "**Code:**"
   ]
  },
  {
   "cell_type": "code",
   "execution_count": 33,
   "metadata": {
    "collapsed": true,
    "scrolled": true
   },
   "outputs": [],
   "source": [
    "# retweeted_status_id, retweeted_status_user_id and retweeted_status_timestamp are already dropped.\n",
    "\n",
    "# Drop unnecessary columns from archive dataframe\n",
    "cleaned_archive = cleaned_archive.drop(['source', 'in_reply_to_status_id', 'in_reply_to_user_id', 'expanded_urls'], axis=1)\n",
    "\n",
    "# Drop unnecessary columns from predictions dataframe\n",
    "cleaned_predictions = cleaned_predictions.drop(['img_num'], axis=1)"
   ]
  },
  {
   "cell_type": "markdown",
   "metadata": {},
   "source": [
    "**Test:**"
   ]
  },
  {
   "cell_type": "code",
   "execution_count": 34,
   "metadata": {
    "scrolled": true
   },
   "outputs": [
    {
     "data": {
      "text/plain": [
       "Index(['tweet_id', 'timestamp', 'text', 'rating_numerator',\n",
       "       'rating_denominator', 'name', 'doggo', 'floofer', 'pupper', 'puppo'],\n",
       "      dtype='object')"
      ]
     },
     "execution_count": 34,
     "metadata": {},
     "output_type": "execute_result"
    }
   ],
   "source": [
    "cleaned_archive.columns"
   ]
  },
  {
   "cell_type": "code",
   "execution_count": 35,
   "metadata": {
    "scrolled": true
   },
   "outputs": [
    {
     "data": {
      "text/plain": [
       "Index(['tweet_id', 'jpg_url', 'p1', 'p1_conf', 'p1_dog', 'p2', 'p2_conf',\n",
       "       'p2_dog', 'p3', 'p3_conf', 'p3_dog'],\n",
       "      dtype='object')"
      ]
     },
     "execution_count": 35,
     "metadata": {},
     "output_type": "execute_result"
    }
   ],
   "source": [
    "cleaned_predictions.columns"
   ]
  },
  {
   "cell_type": "markdown",
   "metadata": {},
   "source": [
    "_________________________"
   ]
  },
  {
   "cell_type": "markdown",
   "metadata": {},
   "source": [
    "**Define:**\n",
    "There are missing data in the image predictions dataframe. It only has 2075 rows instead of 2356. Hence, only keep the rows in the archive that have image predictions."
   ]
  },
  {
   "cell_type": "markdown",
   "metadata": {},
   "source": [
    "**Code:**"
   ]
  },
  {
   "cell_type": "code",
   "execution_count": 36,
   "metadata": {
    "collapsed": true,
    "scrolled": true
   },
   "outputs": [],
   "source": [
    "# Only keep rows in predictions that have IDs in archive \n",
    "dataset = pd.merge(cleaned_archive, cleaned_predictions, on=['tweet_id'], how='left')"
   ]
  },
  {
   "cell_type": "code",
   "execution_count": 37,
   "metadata": {},
   "outputs": [
    {
     "name": "stdout",
     "output_type": "stream",
     "text": [
      "<class 'pandas.core.frame.DataFrame'>\n",
      "Int64Index: 2097 entries, 0 to 2096\n",
      "Data columns (total 20 columns):\n",
      "tweet_id              2097 non-null object\n",
      "timestamp             2097 non-null datetime64[ns]\n",
      "text                  2097 non-null object\n",
      "rating_numerator      2097 non-null int64\n",
      "rating_denominator    2097 non-null int64\n",
      "name                  2097 non-null object\n",
      "doggo                 2097 non-null object\n",
      "floofer               2097 non-null object\n",
      "pupper                2097 non-null object\n",
      "puppo                 2097 non-null object\n",
      "jpg_url               1971 non-null object\n",
      "p1                    1971 non-null object\n",
      "p1_conf               1971 non-null float64\n",
      "p1_dog                1971 non-null object\n",
      "p2                    1971 non-null object\n",
      "p2_conf               1971 non-null float64\n",
      "p2_dog                1971 non-null object\n",
      "p3                    1971 non-null object\n",
      "p3_conf               1971 non-null float64\n",
      "p3_dog                1971 non-null object\n",
      "dtypes: datetime64[ns](1), float64(3), int64(2), object(14)\n",
      "memory usage: 344.0+ KB\n"
     ]
    }
   ],
   "source": [
    "dataset.info()"
   ]
  },
  {
   "cell_type": "markdown",
   "metadata": {},
   "source": [
    "**Test:**"
   ]
  },
  {
   "cell_type": "code",
   "execution_count": 38,
   "metadata": {
    "collapsed": true,
    "scrolled": true
   },
   "outputs": [],
   "source": [
    "# Check if tweet_id existing in predictions but not in archive is not in the merged dataframe\n",
    "tweet_ids = cleaned_predictions.tweet_id\n",
    "\n",
    "for tweet_id in tweet_ids:\n",
    "    # Test if ID is also in archive\n",
    "    if tweet_id not in cleaned_archive.tweet_id.values:\n",
    "        # Check that it also isn't in new dataframe\n",
    "        if tweet_id in dataset.tweet_id.values:\n",
    "            print('The tweet_ID {} should not be in the cleaned merged dataframe!'.format(tweet_id))"
   ]
  },
  {
   "cell_type": "markdown",
   "metadata": {},
   "source": [
    "_________________________"
   ]
  },
  {
   "cell_type": "markdown",
   "metadata": {},
   "source": [
    "**Define:**\n",
    "Remove tweets in predictions where all probabilities of p_dog are False, i.e. where the algorithm is certain the image is not a dog."
   ]
  },
  {
   "cell_type": "markdown",
   "metadata": {},
   "source": [
    "**Code:**"
   ]
  },
  {
   "cell_type": "code",
   "execution_count": 39,
   "metadata": {
    "collapsed": true,
    "scrolled": true
   },
   "outputs": [],
   "source": [
    "# Find tweet_id of images that are not of dogs\n",
    "remove = dataset[(dataset[\"p1_dog\"] == False) &\n",
    "                     (dataset[\"p2_dog\"] == False) &\n",
    "                     (dataset[\"p3_dog\"] == False)][\"tweet_id\"].index\n",
    "\n",
    "# Remove tweets where all probabilities of p_dog are False\n",
    "dataset.drop(remove, inplace=True)"
   ]
  },
  {
   "cell_type": "markdown",
   "metadata": {},
   "source": [
    "**Test:**"
   ]
  },
  {
   "cell_type": "code",
   "execution_count": 40,
   "metadata": {
    "scrolled": true
   },
   "outputs": [
    {
     "name": "stdout",
     "output_type": "stream",
     "text": [
      "Tweets of images that are not dogs are successfully deleted.\n"
     ]
    }
   ],
   "source": [
    "# Check there are no tweets where all probabilities of p_dog are False\n",
    "assert len(dataset[(dataset[\"p1_dog\"] == False) &\n",
    "          (dataset[\"p2_dog\"] == False) &\n",
    "          (dataset[\"p3_dog\"] == False)]) == 0\n",
    "print(\"Tweets of images that are not dogs are successfully deleted.\")"
   ]
  },
  {
   "cell_type": "markdown",
   "metadata": {},
   "source": [
    "_________________________"
   ]
  },
  {
   "cell_type": "markdown",
   "metadata": {},
   "source": [
    "**Define:**\n",
    "Make the values of columns p1, p2, p3 in predictions all lowercase."
   ]
  },
  {
   "cell_type": "markdown",
   "metadata": {},
   "source": [
    "**Code:**"
   ]
  },
  {
   "cell_type": "code",
   "execution_count": 41,
   "metadata": {
    "collapsed": true,
    "scrolled": true
   },
   "outputs": [],
   "source": [
    "dataset['p1'] = dataset['p1'].str.lower()\n",
    "dataset['p2'] = dataset['p2'].str.lower()\n",
    "dataset['p3'] = dataset['p3'].str.lower()"
   ]
  },
  {
   "cell_type": "markdown",
   "metadata": {},
   "source": [
    "**Test:**"
   ]
  },
  {
   "cell_type": "code",
   "execution_count": 42,
   "metadata": {
    "scrolled": true
   },
   "outputs": [
    {
     "data": {
      "text/plain": [
       "array(['papillon', 'kelpie', 'spatula', 'german_short-haired_pointer',\n",
       "       'indian_elephant', 'ice_lolly', 'pembroke',\n",
       "       'chesapeake_bay_retriever', 'chihuahua', 'chow', 'muzzle',\n",
       "       'basenji', 'staffordshire_bullterrier', 'redbone', 'saluki',\n",
       "       'labrador_retriever', 'english_setter', 'malamute', 'bull_mastiff',\n",
       "       'weimaraner', 'beagle', 'can_opener', 'dandie_dinmont',\n",
       "       'boston_bull', 'siamese_cat', 'bernese_mountain_dog', 'kuvasz', nan,\n",
       "       'eskimo_dog', 'norfolk_terrier', 'brabancon_griffon',\n",
       "       'norwegian_elkhound', 'newfoundland', 'dingo',\n",
       "       'flat-coated_retriever', 'cardigan', 'cocker_spaniel',\n",
       "       'golden_retriever', 'koala', 'persian_cat', 'clumber', 'bath_towel',\n",
       "       'american_staffordshire_terrier', 'ibizan_hound', 'appenzeller',\n",
       "       'toy_terrier', 'bathtub', 'tibetan_mastiff',\n",
       "       'greater_swiss_mountain_dog', 'vizsla', 'great_pyrenees',\n",
       "       'toy_poodle', 'standard_poodle', 'dalmatian', 'pomeranian',\n",
       "       'bloodhound', 'swab', 'entlebucher', 'printer', 'saint_bernard',\n",
       "       'collie', 'curly-coated_retriever', 'pug', 'keeshond',\n",
       "       'siberian_husky', 'boxer', 'german_shepherd', 'pekinese',\n",
       "       'french_bulldog', 'bouvier_des_flandres', 'lakeland_terrier', 'hog',\n",
       "       'doormat', 'groenendael', 'japanese_spaniel', 'bluetick',\n",
       "       'border_collie', 'rottweiler', 'english_foxhound', 'sussex_spaniel',\n",
       "       'shih-tzu', 'malinois', 'bonnet', 'wallaby', 'white_wolf',\n",
       "       'west_highland_white_terrier', 'schipperke', 'yorkshire_terrier',\n",
       "       'seat_belt', 'gordon_setter', 'meerkat', 'irish_terrier',\n",
       "       'shopping_cart', 'italian_greyhound', 'grey_fox', 'leonberg',\n",
       "       'guinea_pig', 'gibbon', 'conch', 'polecat', 'tennis_ball', 'cougar',\n",
       "       'soft-coated_wheaten_terrier', 'black-and-tan_coonhound',\n",
       "       'airedale', 'irish_setter', 'norwich_terrier', 'maltese_dog',\n",
       "       'arctic_fox', 'miniature_pinscher', 'samoyed', 'shetland_sheepdog',\n",
       "       'doberman', 'tibetan_terrier', 'grocery_store', 'bow',\n",
       "       'standard_schnauzer', 'irish_water_spaniel', 'otterhound',\n",
       "       'great_dane', 'wire-haired_fox_terrier', 'border_terrier',\n",
       "       'miniature_poodle', 'english_springer', 'welsh_springer_spaniel',\n",
       "       'australian_terrier', 'kerry_blue_terrier', 'jigsaw_puzzle',\n",
       "       'brittany_spaniel', 'lhasa', 'hatchet', 'paintbrush', 'menu',\n",
       "       'shopping_basket', 'wombat', 'soccer_ball', 'tub', 'whippet',\n",
       "       'mousetrap', 'rhodesian_ridgeback', 'basset', 'teddy', 'dhole',\n",
       "       'borzoi', 'briard', 'komondor', 'notebook', 'walker_hound',\n",
       "       'tiger_cat', 'tripod', 'scottish_deerhound', 'snow_leopard',\n",
       "       'refrigerator', 'croquet_ball', 'sombrero', 'blenheim_spaniel',\n",
       "       'buckeye', 'affenpinscher', 'minibus', 'wok', 'ice_bear',\n",
       "       'limousine', 'consomme', 'fur_coat', 'old_english_sheepdog',\n",
       "       'mouse', 'mongoose', 'coyote', 'king_penguin', 'sandbar', 'bucket',\n",
       "       'feather_boa', 'quilt', 'hand_blower', 'giant_schnauzer',\n",
       "       'american_black_bear', 'toilet_tissue', 'cairn', 'irish_wolfhound',\n",
       "       'black-footed_ferret', 'golfcart', 'mexican_hairless', 'mitten',\n",
       "       'silky_terrier', 'soap_dispenser', 'angora', 'binder',\n",
       "       'sliding_door', 'shower_cap', 'prison', 'sunglasses', 'box_turtle',\n",
       "       'bow_tie', 'arabian_camel', 'racket', 'three-toed_sloth', 'lion',\n",
       "       'weasel', 'wild_boar', 'miniature_schnauzer', 'loupe', 'ski_mask',\n",
       "       'bubble', 'ashcan', 'zebra', 'squirrel_monkey', 'afghan_hound',\n",
       "       'chest', 'swing', 'purse', 'space_heater', 'greenhouse',\n",
       "       'sealyham_terrier', 'shovel', 'nipple', 'giant_panda', 'chimpanzee',\n",
       "       'steam_locomotive', 'poncho', 'red_wolf', 'hen', 'bathing_cap',\n",
       "       'brown_bear', 'television', 'window_screen', 'bolete', 'pillow',\n",
       "       'ram', 'titi', 'terrapin', 'water_buffalo', 'power_drill'], dtype=object)"
      ]
     },
     "execution_count": 42,
     "metadata": {},
     "output_type": "execute_result"
    }
   ],
   "source": [
    "dataset.p1.unique()\n",
    "dataset.p2.unique()\n",
    "dataset.p3.unique()"
   ]
  },
  {
   "cell_type": "markdown",
   "metadata": {},
   "source": [
    "_________________________"
   ]
  },
  {
   "cell_type": "markdown",
   "metadata": {},
   "source": [
    "**Define:**\n",
    "Melt the 'doggo', 'floofer', 'pupper' and 'puppo' columns into one column 'dog_stage'."
   ]
  },
  {
   "cell_type": "markdown",
   "metadata": {},
   "source": [
    "**Code:**"
   ]
  },
  {
   "cell_type": "code",
   "execution_count": 43,
   "metadata": {
    "collapsed": true
   },
   "outputs": [],
   "source": [
    "# Initialize all dog stages to be 'None'\n",
    "dataset['dog_stage'] = 'None'\n",
    "\n",
    "# Define a list to hold all possible dog_stages\n",
    "dog_stages = []\n",
    "\n",
    "for index, row in dataset.iterrows():\n",
    "    text = row.text.lower()\n",
    "    if ' puppo ' in text or row.puppo != 'None':\n",
    "        dog_stages.append('puppo')\n",
    "    if ' pupper ' in text or row.pupper != 'None':\n",
    "        dog_stages.append('pupper')\n",
    "    if ' floofer ' in text or row.floofer != 'None':\n",
    "        dog_stages.append('floofer')\n",
    "    if ' doggo ' in text or row.doggo != 'None':\n",
    "        dog_stages.append('doggo')\n",
    "    \n",
    "    # Save all the found dog stages in the new column dog_stage\n",
    "    if dog_stages:\n",
    "        dataset.set_value(index,'dog_stage', ','.join(dog_stages))\n",
    "    dog_stages = []\n",
    "\n",
    "# Drop the melted columns\n",
    "dataset = dataset.drop(['doggo', 'floofer', 'pupper', 'puppo'], axis=1)"
   ]
  },
  {
   "cell_type": "markdown",
   "metadata": {},
   "source": [
    "**Test:**"
   ]
  },
  {
   "cell_type": "code",
   "execution_count": 44,
   "metadata": {},
   "outputs": [
    {
     "data": {
      "text/plain": [
       "None             1502\n",
       "pupper            186\n",
       "doggo              63\n",
       "puppo              22\n",
       "floofer             9\n",
       "pupper,doggo        8\n",
       "puppo,doggo         1\n",
       "floofer,doggo       1\n",
       "Name: dog_stage, dtype: int64"
      ]
     },
     "execution_count": 44,
     "metadata": {},
     "output_type": "execute_result"
    }
   ],
   "source": [
    "dataset['dog_stage'].value_counts()"
   ]
  },
  {
   "cell_type": "code",
   "execution_count": 45,
   "metadata": {
    "scrolled": true
   },
   "outputs": [
    {
     "data": {
      "text/plain": [
       "Index(['tweet_id', 'timestamp', 'text', 'rating_numerator',\n",
       "       'rating_denominator', 'name', 'jpg_url', 'p1', 'p1_conf', 'p1_dog',\n",
       "       'p2', 'p2_conf', 'p2_dog', 'p3', 'p3_conf', 'p3_dog', 'dog_stage'],\n",
       "      dtype='object')"
      ]
     },
     "execution_count": 45,
     "metadata": {},
     "output_type": "execute_result"
    }
   ],
   "source": [
    "dataset.columns"
   ]
  },
  {
   "cell_type": "markdown",
   "metadata": {},
   "source": [
    "_________________________"
   ]
  },
  {
   "cell_type": "markdown",
   "metadata": {},
   "source": [
    "**Define:**\n",
    "Merge the dataframes into one cleaned dataframe."
   ]
  },
  {
   "cell_type": "markdown",
   "metadata": {},
   "source": [
    "**Code:**"
   ]
  },
  {
   "cell_type": "code",
   "execution_count": 46,
   "metadata": {
    "scrolled": true
   },
   "outputs": [
    {
     "data": {
      "text/plain": [
       "Index(['tweet_id', 'timestamp', 'text', 'rating_numerator',\n",
       "       'rating_denominator', 'name', 'jpg_url', 'p1', 'p1_conf', 'p1_dog',\n",
       "       'p2', 'p2_conf', 'p2_dog', 'p3', 'p3_conf', 'p3_dog', 'dog_stage',\n",
       "       'favorite_count', 'retweet_count'],\n",
       "      dtype='object')"
      ]
     },
     "execution_count": 46,
     "metadata": {},
     "output_type": "execute_result"
    }
   ],
   "source": [
    "# Rename the column id to tweet_id to match the other two dataframes\n",
    "cleaned_tweets.rename(columns = {'id':'tweet_id'}, inplace = True)\n",
    "\n",
    "# Merge 3 dataframes into a new dataframe using inner join\n",
    "cleaned_dataset = pd.merge(dataset, cleaned_tweets, on='tweet_id', how='inner')\n",
    "cleaned_dataset.columns"
   ]
  },
  {
   "cell_type": "markdown",
   "metadata": {},
   "source": [
    "**Test:**"
   ]
  },
  {
   "cell_type": "code",
   "execution_count": 47,
   "metadata": {
    "scrolled": true
   },
   "outputs": [
    {
     "name": "stdout",
     "output_type": "stream",
     "text": [
      "<class 'pandas.core.frame.DataFrame'>\n",
      "Int64Index: 1669 entries, 0 to 1668\n",
      "Data columns (total 19 columns):\n",
      "tweet_id              1669 non-null object\n",
      "timestamp             1669 non-null datetime64[ns]\n",
      "text                  1669 non-null object\n",
      "rating_numerator      1669 non-null int64\n",
      "rating_denominator    1669 non-null int64\n",
      "name                  1669 non-null object\n",
      "jpg_url               1558 non-null object\n",
      "p1                    1558 non-null object\n",
      "p1_conf               1558 non-null float64\n",
      "p1_dog                1558 non-null object\n",
      "p2                    1558 non-null object\n",
      "p2_conf               1558 non-null float64\n",
      "p2_dog                1558 non-null object\n",
      "p3                    1558 non-null object\n",
      "p3_conf               1558 non-null float64\n",
      "p3_dog                1558 non-null object\n",
      "dog_stage             1669 non-null object\n",
      "favorite_count        1669 non-null int64\n",
      "retweet_count         1669 non-null int64\n",
      "dtypes: datetime64[ns](1), float64(3), int64(4), object(11)\n",
      "memory usage: 260.8+ KB\n"
     ]
    }
   ],
   "source": [
    "cleaned_dataset.info()"
   ]
  },
  {
   "cell_type": "markdown",
   "metadata": {},
   "source": [
    "_________________________"
   ]
  },
  {
   "cell_type": "markdown",
   "metadata": {},
   "source": [
    "**Define:**\n",
    "Sort the timestamp column in the cleaned dataset. "
   ]
  },
  {
   "cell_type": "markdown",
   "metadata": {},
   "source": [
    "**Code:**"
   ]
  },
  {
   "cell_type": "code",
   "execution_count": 48,
   "metadata": {
    "collapsed": true,
    "scrolled": true
   },
   "outputs": [],
   "source": [
    "cleaned_dataset = cleaned_dataset.sort_values('timestamp')"
   ]
  },
  {
   "cell_type": "markdown",
   "metadata": {},
   "source": [
    "**Test:**"
   ]
  },
  {
   "cell_type": "code",
   "execution_count": 49,
   "metadata": {
    "scrolled": true
   },
   "outputs": [
    {
     "data": {
      "text/html": [
       "<div>\n",
       "<style>\n",
       "    .dataframe thead tr:only-child th {\n",
       "        text-align: right;\n",
       "    }\n",
       "\n",
       "    .dataframe thead th {\n",
       "        text-align: left;\n",
       "    }\n",
       "\n",
       "    .dataframe tbody tr th {\n",
       "        vertical-align: top;\n",
       "    }\n",
       "</style>\n",
       "<table border=\"1\" class=\"dataframe\">\n",
       "  <thead>\n",
       "    <tr style=\"text-align: right;\">\n",
       "      <th></th>\n",
       "      <th>tweet_id</th>\n",
       "      <th>timestamp</th>\n",
       "      <th>text</th>\n",
       "      <th>rating_numerator</th>\n",
       "      <th>rating_denominator</th>\n",
       "      <th>name</th>\n",
       "      <th>jpg_url</th>\n",
       "      <th>p1</th>\n",
       "      <th>p1_conf</th>\n",
       "      <th>p1_dog</th>\n",
       "      <th>p2</th>\n",
       "      <th>p2_conf</th>\n",
       "      <th>p2_dog</th>\n",
       "      <th>p3</th>\n",
       "      <th>p3_conf</th>\n",
       "      <th>p3_dog</th>\n",
       "      <th>dog_stage</th>\n",
       "      <th>favorite_count</th>\n",
       "      <th>retweet_count</th>\n",
       "    </tr>\n",
       "  </thead>\n",
       "  <tbody>\n",
       "    <tr>\n",
       "      <th>1668</th>\n",
       "      <td>666020888022790149</td>\n",
       "      <td>2015-11-15 22:32:08</td>\n",
       "      <td>Here we have a Japanese Irish Setter. Lost eye...</td>\n",
       "      <td>8</td>\n",
       "      <td>10</td>\n",
       "      <td>None</td>\n",
       "      <td>https://pbs.twimg.com/media/CT4udn0WwAA0aMy.jpg</td>\n",
       "      <td>welsh_springer_spaniel</td>\n",
       "      <td>0.465074</td>\n",
       "      <td>True</td>\n",
       "      <td>collie</td>\n",
       "      <td>0.156665</td>\n",
       "      <td>True</td>\n",
       "      <td>shetland_sheepdog</td>\n",
       "      <td>0.061428</td>\n",
       "      <td>True</td>\n",
       "      <td>None</td>\n",
       "      <td>2535</td>\n",
       "      <td>502</td>\n",
       "    </tr>\n",
       "    <tr>\n",
       "      <th>1667</th>\n",
       "      <td>666029285002620928</td>\n",
       "      <td>2015-11-15 23:05:30</td>\n",
       "      <td>This is a western brown Mitsubishi terrier. Up...</td>\n",
       "      <td>7</td>\n",
       "      <td>10</td>\n",
       "      <td>None</td>\n",
       "      <td>https://pbs.twimg.com/media/CT42GRgUYAA5iDo.jpg</td>\n",
       "      <td>redbone</td>\n",
       "      <td>0.506826</td>\n",
       "      <td>True</td>\n",
       "      <td>miniature_pinscher</td>\n",
       "      <td>0.074192</td>\n",
       "      <td>True</td>\n",
       "      <td>rhodesian_ridgeback</td>\n",
       "      <td>0.072010</td>\n",
       "      <td>True</td>\n",
       "      <td>None</td>\n",
       "      <td>126</td>\n",
       "      <td>47</td>\n",
       "    </tr>\n",
       "    <tr>\n",
       "      <th>1666</th>\n",
       "      <td>666033412701032449</td>\n",
       "      <td>2015-11-15 23:21:54</td>\n",
       "      <td>Here is a very happy pup. Big fan of well-main...</td>\n",
       "      <td>9</td>\n",
       "      <td>10</td>\n",
       "      <td>None</td>\n",
       "      <td>https://pbs.twimg.com/media/CT4521TWwAEvMyu.jpg</td>\n",
       "      <td>german_shepherd</td>\n",
       "      <td>0.596461</td>\n",
       "      <td>True</td>\n",
       "      <td>malinois</td>\n",
       "      <td>0.138584</td>\n",
       "      <td>True</td>\n",
       "      <td>bloodhound</td>\n",
       "      <td>0.116197</td>\n",
       "      <td>True</td>\n",
       "      <td>None</td>\n",
       "      <td>123</td>\n",
       "      <td>43</td>\n",
       "    </tr>\n",
       "    <tr>\n",
       "      <th>1665</th>\n",
       "      <td>666044226329800704</td>\n",
       "      <td>2015-11-16 00:04:52</td>\n",
       "      <td>This is a purebred Piers Morgan. Loves to Netf...</td>\n",
       "      <td>6</td>\n",
       "      <td>10</td>\n",
       "      <td>None</td>\n",
       "      <td>https://pbs.twimg.com/media/CT5Dr8HUEAA-lEu.jpg</td>\n",
       "      <td>rhodesian_ridgeback</td>\n",
       "      <td>0.408143</td>\n",
       "      <td>True</td>\n",
       "      <td>redbone</td>\n",
       "      <td>0.360687</td>\n",
       "      <td>True</td>\n",
       "      <td>miniature_pinscher</td>\n",
       "      <td>0.222752</td>\n",
       "      <td>True</td>\n",
       "      <td>None</td>\n",
       "      <td>292</td>\n",
       "      <td>139</td>\n",
       "    </tr>\n",
       "    <tr>\n",
       "      <th>1664</th>\n",
       "      <td>666049248165822465</td>\n",
       "      <td>2015-11-16 00:24:50</td>\n",
       "      <td>Here we have a 1949 1st generation vulpix. Enj...</td>\n",
       "      <td>5</td>\n",
       "      <td>10</td>\n",
       "      <td>None</td>\n",
       "      <td>https://pbs.twimg.com/media/CT5IQmsXIAAKY4A.jpg</td>\n",
       "      <td>miniature_pinscher</td>\n",
       "      <td>0.560311</td>\n",
       "      <td>True</td>\n",
       "      <td>rottweiler</td>\n",
       "      <td>0.243682</td>\n",
       "      <td>True</td>\n",
       "      <td>doberman</td>\n",
       "      <td>0.154629</td>\n",
       "      <td>True</td>\n",
       "      <td>None</td>\n",
       "      <td>106</td>\n",
       "      <td>41</td>\n",
       "    </tr>\n",
       "  </tbody>\n",
       "</table>\n",
       "</div>"
      ],
      "text/plain": [
       "                tweet_id           timestamp  \\\n",
       "1668  666020888022790149 2015-11-15 22:32:08   \n",
       "1667  666029285002620928 2015-11-15 23:05:30   \n",
       "1666  666033412701032449 2015-11-15 23:21:54   \n",
       "1665  666044226329800704 2015-11-16 00:04:52   \n",
       "1664  666049248165822465 2015-11-16 00:24:50   \n",
       "\n",
       "                                                   text  rating_numerator  \\\n",
       "1668  Here we have a Japanese Irish Setter. Lost eye...                 8   \n",
       "1667  This is a western brown Mitsubishi terrier. Up...                 7   \n",
       "1666  Here is a very happy pup. Big fan of well-main...                 9   \n",
       "1665  This is a purebred Piers Morgan. Loves to Netf...                 6   \n",
       "1664  Here we have a 1949 1st generation vulpix. Enj...                 5   \n",
       "\n",
       "      rating_denominator  name  \\\n",
       "1668                  10  None   \n",
       "1667                  10  None   \n",
       "1666                  10  None   \n",
       "1665                  10  None   \n",
       "1664                  10  None   \n",
       "\n",
       "                                              jpg_url                      p1  \\\n",
       "1668  https://pbs.twimg.com/media/CT4udn0WwAA0aMy.jpg  welsh_springer_spaniel   \n",
       "1667  https://pbs.twimg.com/media/CT42GRgUYAA5iDo.jpg                 redbone   \n",
       "1666  https://pbs.twimg.com/media/CT4521TWwAEvMyu.jpg         german_shepherd   \n",
       "1665  https://pbs.twimg.com/media/CT5Dr8HUEAA-lEu.jpg     rhodesian_ridgeback   \n",
       "1664  https://pbs.twimg.com/media/CT5IQmsXIAAKY4A.jpg      miniature_pinscher   \n",
       "\n",
       "       p1_conf p1_dog                  p2   p2_conf p2_dog  \\\n",
       "1668  0.465074   True              collie  0.156665   True   \n",
       "1667  0.506826   True  miniature_pinscher  0.074192   True   \n",
       "1666  0.596461   True            malinois  0.138584   True   \n",
       "1665  0.408143   True             redbone  0.360687   True   \n",
       "1664  0.560311   True          rottweiler  0.243682   True   \n",
       "\n",
       "                       p3   p3_conf p3_dog dog_stage  favorite_count  \\\n",
       "1668    shetland_sheepdog  0.061428   True      None            2535   \n",
       "1667  rhodesian_ridgeback  0.072010   True      None             126   \n",
       "1666           bloodhound  0.116197   True      None             123   \n",
       "1665   miniature_pinscher  0.222752   True      None             292   \n",
       "1664             doberman  0.154629   True      None             106   \n",
       "\n",
       "      retweet_count  \n",
       "1668            502  \n",
       "1667             47  \n",
       "1666             43  \n",
       "1665            139  \n",
       "1664             41  "
      ]
     },
     "execution_count": 49,
     "metadata": {},
     "output_type": "execute_result"
    }
   ],
   "source": [
    "cleaned_dataset.head(5)"
   ]
  },
  {
   "cell_type": "markdown",
   "metadata": {},
   "source": [
    "_________________________"
   ]
  },
  {
   "cell_type": "markdown",
   "metadata": {},
   "source": [
    "Store the final cleaned dataframe cleaned_archive into a CSV file:"
   ]
  },
  {
   "cell_type": "code",
   "execution_count": 50,
   "metadata": {
    "collapsed": true,
    "scrolled": true
   },
   "outputs": [],
   "source": [
    "# Store cleaned data in the file twitter_archive_master.csv\n",
    "cleaned_dataset.to_csv('twitter_archive_master.csv')"
   ]
  },
  {
   "cell_type": "markdown",
   "metadata": {},
   "source": [
    "# Analysing and Visualising Data\n",
    "Analyze and visualize your wrangled data in your wrangle_act.ipynb Jupyter Notebook. At least three (3) insights and one (1) visualization must be produced."
   ]
  },
  {
   "cell_type": "markdown",
   "metadata": {},
   "source": [
    "**Basic stats:**\n",
    "\n",
    "* The @WeRateDogs account got between 12 and 61,934 retweets for its original tweets.\n",
    "* The @WeRateDogs account got between 78 and 140,343 favorites for its original tweets.\n",
    "* The neural network performed the best on the 1st iteration with a mean prediciton of 0.6.\n",
    "* The average rating numerator given was 11.\n",
    "* The least rating numerator given was 0, and the most was 144."
   ]
  },
  {
   "cell_type": "code",
   "execution_count": 51,
   "metadata": {
    "scrolled": true
   },
   "outputs": [
    {
     "data": {
      "text/html": [
       "<div>\n",
       "<style>\n",
       "    .dataframe thead tr:only-child th {\n",
       "        text-align: right;\n",
       "    }\n",
       "\n",
       "    .dataframe thead th {\n",
       "        text-align: left;\n",
       "    }\n",
       "\n",
       "    .dataframe tbody tr th {\n",
       "        vertical-align: top;\n",
       "    }\n",
       "</style>\n",
       "<table border=\"1\" class=\"dataframe\">\n",
       "  <thead>\n",
       "    <tr style=\"text-align: right;\">\n",
       "      <th></th>\n",
       "      <th>rating_numerator</th>\n",
       "      <th>rating_denominator</th>\n",
       "      <th>p1_conf</th>\n",
       "      <th>p2_conf</th>\n",
       "      <th>p3_conf</th>\n",
       "      <th>favorite_count</th>\n",
       "      <th>retweet_count</th>\n",
       "    </tr>\n",
       "  </thead>\n",
       "  <tbody>\n",
       "    <tr>\n",
       "      <th>count</th>\n",
       "      <td>1669.000000</td>\n",
       "      <td>1669.000000</td>\n",
       "      <td>1558.000000</td>\n",
       "      <td>1558.000000</td>\n",
       "      <td>1.558000e+03</td>\n",
       "      <td>1669.000000</td>\n",
       "      <td>1669.000000</td>\n",
       "    </tr>\n",
       "    <tr>\n",
       "      <th>mean</th>\n",
       "      <td>11.366687</td>\n",
       "      <td>10.384062</td>\n",
       "      <td>0.603394</td>\n",
       "      <td>0.138270</td>\n",
       "      <td>6.170810e-02</td>\n",
       "      <td>9194.261234</td>\n",
       "      <td>2745.373277</td>\n",
       "    </tr>\n",
       "    <tr>\n",
       "      <th>std</th>\n",
       "      <td>6.463770</td>\n",
       "      <td>5.338023</td>\n",
       "      <td>0.266377</td>\n",
       "      <td>0.101770</td>\n",
       "      <td>5.200953e-02</td>\n",
       "      <td>12994.490020</td>\n",
       "      <td>4602.036062</td>\n",
       "    </tr>\n",
       "    <tr>\n",
       "      <th>min</th>\n",
       "      <td>0.000000</td>\n",
       "      <td>2.000000</td>\n",
       "      <td>0.044333</td>\n",
       "      <td>0.000023</td>\n",
       "      <td>2.160900e-07</td>\n",
       "      <td>78.000000</td>\n",
       "      <td>12.000000</td>\n",
       "    </tr>\n",
       "    <tr>\n",
       "      <th>25%</th>\n",
       "      <td>10.000000</td>\n",
       "      <td>10.000000</td>\n",
       "      <td>0.375696</td>\n",
       "      <td>0.055716</td>\n",
       "      <td>1.605313e-02</td>\n",
       "      <td>1996.000000</td>\n",
       "      <td>597.000000</td>\n",
       "    </tr>\n",
       "    <tr>\n",
       "      <th>50%</th>\n",
       "      <td>11.000000</td>\n",
       "      <td>10.000000</td>\n",
       "      <td>0.605331</td>\n",
       "      <td>0.121816</td>\n",
       "      <td>5.059690e-02</td>\n",
       "      <td>4026.000000</td>\n",
       "      <td>1356.000000</td>\n",
       "    </tr>\n",
       "    <tr>\n",
       "      <th>75%</th>\n",
       "      <td>12.000000</td>\n",
       "      <td>10.000000</td>\n",
       "      <td>0.848619</td>\n",
       "      <td>0.199528</td>\n",
       "      <td>9.490405e-02</td>\n",
       "      <td>11768.000000</td>\n",
       "      <td>3166.000000</td>\n",
       "    </tr>\n",
       "    <tr>\n",
       "      <th>max</th>\n",
       "      <td>144.000000</td>\n",
       "      <td>120.000000</td>\n",
       "      <td>0.999956</td>\n",
       "      <td>0.467678</td>\n",
       "      <td>2.734190e-01</td>\n",
       "      <td>140343.000000</td>\n",
       "      <td>61934.000000</td>\n",
       "    </tr>\n",
       "  </tbody>\n",
       "</table>\n",
       "</div>"
      ],
      "text/plain": [
       "       rating_numerator  rating_denominator      p1_conf      p2_conf  \\\n",
       "count       1669.000000         1669.000000  1558.000000  1558.000000   \n",
       "mean          11.366687           10.384062     0.603394     0.138270   \n",
       "std            6.463770            5.338023     0.266377     0.101770   \n",
       "min            0.000000            2.000000     0.044333     0.000023   \n",
       "25%           10.000000           10.000000     0.375696     0.055716   \n",
       "50%           11.000000           10.000000     0.605331     0.121816   \n",
       "75%           12.000000           10.000000     0.848619     0.199528   \n",
       "max          144.000000          120.000000     0.999956     0.467678   \n",
       "\n",
       "            p3_conf  favorite_count  retweet_count  \n",
       "count  1.558000e+03     1669.000000    1669.000000  \n",
       "mean   6.170810e-02     9194.261234    2745.373277  \n",
       "std    5.200953e-02    12994.490020    4602.036062  \n",
       "min    2.160900e-07       78.000000      12.000000  \n",
       "25%    1.605313e-02     1996.000000     597.000000  \n",
       "50%    5.059690e-02     4026.000000    1356.000000  \n",
       "75%    9.490405e-02    11768.000000    3166.000000  \n",
       "max    2.734190e-01   140343.000000   61934.000000  "
      ]
     },
     "execution_count": 51,
     "metadata": {},
     "output_type": "execute_result"
    }
   ],
   "source": [
    "data = cleaned_dataset.copy()\n",
    "data.describe()"
   ]
  },
  {
   "cell_type": "markdown",
   "metadata": {},
   "source": [
    "_________________________"
   ]
  },
  {
   "cell_type": "markdown",
   "metadata": {},
   "source": [
    "The @WeRateDogs account tweet's length on average is 120 characters."
   ]
  },
  {
   "cell_type": "code",
   "execution_count": 52,
   "metadata": {
    "scrolled": true
   },
   "outputs": [
    {
     "name": "stdout",
     "output_type": "stream",
     "text": [
      "The tweets average lenght: 120 characters.\n"
     ]
    }
   ],
   "source": [
    "# Calculate the number of charachters for each tweets and save it in a new column 'length'\n",
    "data['length']  = np.array([len(tweet) for tweet in data.text])\n",
    "\n",
    "# Find the mean of tweet length\n",
    "mean = np.mean(data['length'])\n",
    "\n",
    "print(\"The tweets average lenght: {} characters.\".format(int(mean)))"
   ]
  },
  {
   "cell_type": "code",
   "execution_count": 53,
   "metadata": {
    "scrolled": false
   },
   "outputs": [
    {
     "name": "stdout",
     "output_type": "stream",
     "text": [
      "The most favorited tweet is: \n",
      "Here's a super supportive puppo participating in the Toronto  #WomensMarch today. 13/10 https://t.co/nTz3FtorBc\n",
      "No. of favorites: 140343\n",
      "\n",
      "The most retweeted tweet is: \n",
      "Here's a doggo blowing bubbles. It's downright legendary. 13/10 would watch on repeat forever (vid by Kent Duryee) https://t.co/YcXgHfp1EC\n",
      "No. of retweets: 61934\n"
     ]
    }
   ],
   "source": [
    "# Find the tweet with the most likes and most retweets\n",
    "like_max = np.max(data['favorite_count'])\n",
    "rt_max  = np.max(data['retweet_count'])\n",
    "\n",
    "like = data[data.favorite_count == like_max].index[0]\n",
    "rt  = data[data.retweet_count == rt_max].index[0]\n",
    "\n",
    "# Most Likes\n",
    "print(\"The most favorited tweet is: \\n{}\".format(data['text'][like]))\n",
    "print(\"No. of favorites: {}\\n\".format(like_max))\n",
    "\n",
    "# Most RTs\n",
    "print(\"The most retweeted tweet is: \\n{}\".format(data['text'][rt]))\n",
    "print(\"No. of retweets: {}\".format(rt_max))"
   ]
  },
  {
   "cell_type": "code",
   "execution_count": 54,
   "metadata": {},
   "outputs": [
    {
     "name": "stdout",
     "output_type": "stream",
     "text": [
      "The least favorited tweet is: \n",
      "Oh my. Here you are seeing an Adobe Setter giving birth to twins!!! The world is an amazing place. 11/10 https://t.co/11LvqN4WLq\n",
      "No. of favorites: 78\n",
      "\n",
      "The least retweeted tweet is: \n",
      "Oh my. Here you are seeing an Adobe Setter giving birth to twins!!! The world is an amazing place. 11/10 https://t.co/11LvqN4WLq\n",
      "No. of retweets: 12\n"
     ]
    }
   ],
   "source": [
    "# Find the tweet with the least likes and most retweets\n",
    "like_min = np.min(data['favorite_count'])\n",
    "rt_min  = np.min(data['retweet_count'])\n",
    "\n",
    "like = data[data.favorite_count == like_min].index[0]\n",
    "rt  = data[data.retweet_count == rt_min].index[0]\n",
    "\n",
    "# Most Likes\n",
    "print(\"The least favorited tweet is: \\n{}\".format(data['text'][like]))\n",
    "print(\"No. of favorites: {}\\n\".format(like_min))\n",
    "\n",
    "# Most RTs\n",
    "print(\"The least retweeted tweet is: \\n{}\".format(data['text'][rt]))\n",
    "print(\"No. of retweets: {}\".format(rt_min))"
   ]
  },
  {
   "cell_type": "markdown",
   "metadata": {},
   "source": [
    "_________________________"
   ]
  },
  {
   "cell_type": "markdown",
   "metadata": {},
   "source": [
    "**Visualizations:**"
   ]
  },
  {
   "cell_type": "markdown",
   "metadata": {},
   "source": [
    "Compare the number of retweets and favorites that the @WeRateDogs account has over time."
   ]
  },
  {
   "cell_type": "code",
   "execution_count": 55,
   "metadata": {
    "collapsed": true,
    "scrolled": true
   },
   "outputs": [],
   "source": [
    "# Create a time series from the data\n",
    "likes = pd.Series(data=data['favorite_count'].values, index=data['timestamp'])\n",
    "retweets = pd.Series(data=data['retweet_count'].values, index=data['timestamp'])"
   ]
  },
  {
   "cell_type": "code",
   "execution_count": 56,
   "metadata": {
    "scrolled": true
   },
   "outputs": [
    {
     "data": {
      "image/png": "[encoded data removed]",
      "text/plain": [
       "<matplotlib.figure.Figure at 0x114ef6438>"
      ]
     },
     "metadata": {},
     "output_type": "display_data"
    }
   ],
   "source": [
    "# Create a plot to compare the likes and retweets along time\n",
    "likes.plot(figsize=(16,4), label='Favorites', color='orange', legend=True)\n",
    "retweets.plot(figsize=(16,4), label='Retweets', color='maroon', legend=True);\n",
    "plt.title('No. of Favorites and Retweets Over Time')\n",
    "plt.show()"
   ]
  },
  {
   "cell_type": "markdown",
   "metadata": {},
   "source": [
    "* We can see from the plot that in general, @WeRateDogs tweets get more favorites than retweets.\n",
    "* In June 2016, the account got its highest number of favorites (140,343 favorites), and its highest number of retweets (61,934 retweets).\n",
    "* In March 2016, the account got its lowest number of favorites (78 favorites), and its lowest number of retweets (12 retweets).\n",
    "* In general, there's a pattern where the favoriting and retweeting behaviour are similar in their rises and falls, where the favorite_count is usally double the retweet_count. Except in March 2017 going forward, the favorites counts started to exceed the retweets counts by far."
   ]
  },
  {
   "cell_type": "code",
   "execution_count": 57,
   "metadata": {
    "scrolled": true
   },
   "outputs": [
    {
     "data": {
      "text/html": [
       "<div>\n",
       "<style>\n",
       "    .dataframe thead tr:only-child th {\n",
       "        text-align: right;\n",
       "    }\n",
       "\n",
       "    .dataframe thead th {\n",
       "        text-align: left;\n",
       "    }\n",
       "\n",
       "    .dataframe tbody tr th {\n",
       "        vertical-align: top;\n",
       "    }\n",
       "</style>\n",
       "<table border=\"1\" class=\"dataframe\">\n",
       "  <thead>\n",
       "    <tr style=\"text-align: right;\">\n",
       "      <th></th>\n",
       "      <th>tweet_id</th>\n",
       "      <th>timestamp</th>\n",
       "      <th>text</th>\n",
       "      <th>rating_numerator</th>\n",
       "      <th>rating_denominator</th>\n",
       "      <th>name</th>\n",
       "      <th>jpg_url</th>\n",
       "      <th>p1</th>\n",
       "      <th>p1_conf</th>\n",
       "      <th>p1_dog</th>\n",
       "      <th>p2</th>\n",
       "      <th>p2_conf</th>\n",
       "      <th>p2_dog</th>\n",
       "      <th>p3</th>\n",
       "      <th>p3_conf</th>\n",
       "      <th>p3_dog</th>\n",
       "      <th>dog_stage</th>\n",
       "      <th>favorite_count</th>\n",
       "      <th>retweet_count</th>\n",
       "      <th>length</th>\n",
       "    </tr>\n",
       "  </thead>\n",
       "  <tbody>\n",
       "    <tr>\n",
       "      <th>1653</th>\n",
       "      <td>666102155909144576</td>\n",
       "      <td>2015-11-16 03:55:04</td>\n",
       "      <td>Oh my. Here you are seeing an Adobe Setter giv...</td>\n",
       "      <td>11</td>\n",
       "      <td>10</td>\n",
       "      <td>None</td>\n",
       "      <td>https://pbs.twimg.com/media/CT54YGiWUAEZnoK.jpg</td>\n",
       "      <td>english_setter</td>\n",
       "      <td>0.298617</td>\n",
       "      <td>True</td>\n",
       "      <td>newfoundland</td>\n",
       "      <td>0.149842</td>\n",
       "      <td>True</td>\n",
       "      <td>borzoi</td>\n",
       "      <td>0.133649</td>\n",
       "      <td>True</td>\n",
       "      <td>None</td>\n",
       "      <td>78</td>\n",
       "      <td>12</td>\n",
       "      <td>128</td>\n",
       "    </tr>\n",
       "  </tbody>\n",
       "</table>\n",
       "</div>"
      ],
      "text/plain": [
       "                tweet_id           timestamp  \\\n",
       "1653  666102155909144576 2015-11-16 03:55:04   \n",
       "\n",
       "                                                   text  rating_numerator  \\\n",
       "1653  Oh my. Here you are seeing an Adobe Setter giv...                11   \n",
       "\n",
       "      rating_denominator  name  \\\n",
       "1653                  10  None   \n",
       "\n",
       "                                              jpg_url              p1  \\\n",
       "1653  https://pbs.twimg.com/media/CT54YGiWUAEZnoK.jpg  english_setter   \n",
       "\n",
       "       p1_conf p1_dog            p2   p2_conf p2_dog      p3   p3_conf p3_dog  \\\n",
       "1653  0.298617   True  newfoundland  0.149842   True  borzoi  0.133649   True   \n",
       "\n",
       "     dog_stage  favorite_count  retweet_count  length  \n",
       "1653      None              78             12     128  "
      ]
     },
     "execution_count": 57,
     "metadata": {},
     "output_type": "execute_result"
    }
   ],
   "source": [
    "# The tweets with the lowest favorite count\n",
    "data.loc[data['favorite_count'] == 78]"
   ]
  },
  {
   "cell_type": "code",
   "execution_count": 58,
   "metadata": {
    "scrolled": true
   },
   "outputs": [
    {
     "data": {
      "text/html": [
       "<div>\n",
       "<style>\n",
       "    .dataframe thead tr:only-child th {\n",
       "        text-align: right;\n",
       "    }\n",
       "\n",
       "    .dataframe thead th {\n",
       "        text-align: left;\n",
       "    }\n",
       "\n",
       "    .dataframe tbody tr th {\n",
       "        vertical-align: top;\n",
       "    }\n",
       "</style>\n",
       "<table border=\"1\" class=\"dataframe\">\n",
       "  <thead>\n",
       "    <tr style=\"text-align: right;\">\n",
       "      <th></th>\n",
       "      <th>tweet_id</th>\n",
       "      <th>timestamp</th>\n",
       "      <th>text</th>\n",
       "      <th>rating_numerator</th>\n",
       "      <th>rating_denominator</th>\n",
       "      <th>name</th>\n",
       "      <th>jpg_url</th>\n",
       "      <th>p1</th>\n",
       "      <th>p1_conf</th>\n",
       "      <th>p1_dog</th>\n",
       "      <th>p2</th>\n",
       "      <th>p2_conf</th>\n",
       "      <th>p2_dog</th>\n",
       "      <th>p3</th>\n",
       "      <th>p3_conf</th>\n",
       "      <th>p3_dog</th>\n",
       "      <th>dog_stage</th>\n",
       "      <th>favorite_count</th>\n",
       "      <th>retweet_count</th>\n",
       "      <th>length</th>\n",
       "    </tr>\n",
       "  </thead>\n",
       "  <tbody>\n",
       "    <tr>\n",
       "      <th>294</th>\n",
       "      <td>822872901745569793</td>\n",
       "      <td>2017-01-21 18:26:02</td>\n",
       "      <td>Here's a super supportive puppo participating ...</td>\n",
       "      <td>13</td>\n",
       "      <td>10</td>\n",
       "      <td>None</td>\n",
       "      <td>https://pbs.twimg.com/media/C2tugXLXgAArJO4.jpg</td>\n",
       "      <td>lakeland_terrier</td>\n",
       "      <td>0.196015</td>\n",
       "      <td>True</td>\n",
       "      <td>labrador_retriever</td>\n",
       "      <td>0.160329</td>\n",
       "      <td>True</td>\n",
       "      <td>irish_terrier</td>\n",
       "      <td>0.069126</td>\n",
       "      <td>True</td>\n",
       "      <td>puppo</td>\n",
       "      <td>140343</td>\n",
       "      <td>47683</td>\n",
       "      <td>111</td>\n",
       "    </tr>\n",
       "  </tbody>\n",
       "</table>\n",
       "</div>"
      ],
      "text/plain": [
       "               tweet_id           timestamp  \\\n",
       "294  822872901745569793 2017-01-21 18:26:02   \n",
       "\n",
       "                                                  text  rating_numerator  \\\n",
       "294  Here's a super supportive puppo participating ...                13   \n",
       "\n",
       "     rating_denominator  name  \\\n",
       "294                  10  None   \n",
       "\n",
       "                                             jpg_url                p1  \\\n",
       "294  https://pbs.twimg.com/media/C2tugXLXgAArJO4.jpg  lakeland_terrier   \n",
       "\n",
       "      p1_conf p1_dog                  p2   p2_conf p2_dog             p3  \\\n",
       "294  0.196015   True  labrador_retriever  0.160329   True  irish_terrier   \n",
       "\n",
       "      p3_conf p3_dog dog_stage  favorite_count  retweet_count  length  \n",
       "294  0.069126   True     puppo          140343          47683     111  "
      ]
     },
     "execution_count": 58,
     "metadata": {},
     "output_type": "execute_result"
    }
   ],
   "source": [
    "# The tweets with the highest favorite count\n",
    "data.loc[data['favorite_count'] == 140343]"
   ]
  },
  {
   "cell_type": "code",
   "execution_count": 59,
   "metadata": {
    "scrolled": true
   },
   "outputs": [
    {
     "data": {
      "text/html": [
       "<div>\n",
       "<style>\n",
       "    .dataframe thead tr:only-child th {\n",
       "        text-align: right;\n",
       "    }\n",
       "\n",
       "    .dataframe thead th {\n",
       "        text-align: left;\n",
       "    }\n",
       "\n",
       "    .dataframe tbody tr th {\n",
       "        vertical-align: top;\n",
       "    }\n",
       "</style>\n",
       "<table border=\"1\" class=\"dataframe\">\n",
       "  <thead>\n",
       "    <tr style=\"text-align: right;\">\n",
       "      <th></th>\n",
       "      <th>tweet_id</th>\n",
       "      <th>timestamp</th>\n",
       "      <th>text</th>\n",
       "      <th>rating_numerator</th>\n",
       "      <th>rating_denominator</th>\n",
       "      <th>name</th>\n",
       "      <th>jpg_url</th>\n",
       "      <th>p1</th>\n",
       "      <th>p1_conf</th>\n",
       "      <th>p1_dog</th>\n",
       "      <th>p2</th>\n",
       "      <th>p2_conf</th>\n",
       "      <th>p2_dog</th>\n",
       "      <th>p3</th>\n",
       "      <th>p3_conf</th>\n",
       "      <th>p3_dog</th>\n",
       "      <th>dog_stage</th>\n",
       "      <th>favorite_count</th>\n",
       "      <th>retweet_count</th>\n",
       "      <th>length</th>\n",
       "    </tr>\n",
       "  </thead>\n",
       "  <tbody>\n",
       "    <tr>\n",
       "      <th>1653</th>\n",
       "      <td>666102155909144576</td>\n",
       "      <td>2015-11-16 03:55:04</td>\n",
       "      <td>Oh my. Here you are seeing an Adobe Setter giv...</td>\n",
       "      <td>11</td>\n",
       "      <td>10</td>\n",
       "      <td>None</td>\n",
       "      <td>https://pbs.twimg.com/media/CT54YGiWUAEZnoK.jpg</td>\n",
       "      <td>english_setter</td>\n",
       "      <td>0.298617</td>\n",
       "      <td>True</td>\n",
       "      <td>newfoundland</td>\n",
       "      <td>0.149842</td>\n",
       "      <td>True</td>\n",
       "      <td>borzoi</td>\n",
       "      <td>0.133649</td>\n",
       "      <td>True</td>\n",
       "      <td>None</td>\n",
       "      <td>78</td>\n",
       "      <td>12</td>\n",
       "      <td>128</td>\n",
       "    </tr>\n",
       "  </tbody>\n",
       "</table>\n",
       "</div>"
      ],
      "text/plain": [
       "                tweet_id           timestamp  \\\n",
       "1653  666102155909144576 2015-11-16 03:55:04   \n",
       "\n",
       "                                                   text  rating_numerator  \\\n",
       "1653  Oh my. Here you are seeing an Adobe Setter giv...                11   \n",
       "\n",
       "      rating_denominator  name  \\\n",
       "1653                  10  None   \n",
       "\n",
       "                                              jpg_url              p1  \\\n",
       "1653  https://pbs.twimg.com/media/CT54YGiWUAEZnoK.jpg  english_setter   \n",
       "\n",
       "       p1_conf p1_dog            p2   p2_conf p2_dog      p3   p3_conf p3_dog  \\\n",
       "1653  0.298617   True  newfoundland  0.149842   True  borzoi  0.133649   True   \n",
       "\n",
       "     dog_stage  favorite_count  retweet_count  length  \n",
       "1653      None              78             12     128  "
      ]
     },
     "execution_count": 59,
     "metadata": {},
     "output_type": "execute_result"
    }
   ],
   "source": [
    "# The tweets with the lowest retweet count\n",
    "data.loc[data['retweet_count'] == 12]"
   ]
  },
  {
   "cell_type": "code",
   "execution_count": 60,
   "metadata": {
    "scrolled": true
   },
   "outputs": [
    {
     "data": {
      "text/html": [
       "<div>\n",
       "<style>\n",
       "    .dataframe thead tr:only-child th {\n",
       "        text-align: right;\n",
       "    }\n",
       "\n",
       "    .dataframe thead th {\n",
       "        text-align: left;\n",
       "    }\n",
       "\n",
       "    .dataframe tbody tr th {\n",
       "        vertical-align: top;\n",
       "    }\n",
       "</style>\n",
       "<table border=\"1\" class=\"dataframe\">\n",
       "  <thead>\n",
       "    <tr style=\"text-align: right;\">\n",
       "      <th></th>\n",
       "      <th>tweet_id</th>\n",
       "      <th>timestamp</th>\n",
       "      <th>text</th>\n",
       "      <th>rating_numerator</th>\n",
       "      <th>rating_denominator</th>\n",
       "      <th>name</th>\n",
       "      <th>jpg_url</th>\n",
       "      <th>p1</th>\n",
       "      <th>p1_conf</th>\n",
       "      <th>p1_dog</th>\n",
       "      <th>p2</th>\n",
       "      <th>p2_conf</th>\n",
       "      <th>p2_dog</th>\n",
       "      <th>p3</th>\n",
       "      <th>p3_conf</th>\n",
       "      <th>p3_dog</th>\n",
       "      <th>dog_stage</th>\n",
       "      <th>favorite_count</th>\n",
       "      <th>retweet_count</th>\n",
       "      <th>length</th>\n",
       "    </tr>\n",
       "  </thead>\n",
       "  <tbody>\n",
       "    <tr>\n",
       "      <th>656</th>\n",
       "      <td>739238157791694849</td>\n",
       "      <td>2016-06-04 23:31:25</td>\n",
       "      <td>Here's a doggo blowing bubbles. It's downright...</td>\n",
       "      <td>13</td>\n",
       "      <td>10</td>\n",
       "      <td>None</td>\n",
       "      <td>https://pbs.twimg.com/ext_tw_video_thumb/73923...</td>\n",
       "      <td>eskimo_dog</td>\n",
       "      <td>0.503372</td>\n",
       "      <td>True</td>\n",
       "      <td>siberian_husky</td>\n",
       "      <td>0.390413</td>\n",
       "      <td>True</td>\n",
       "      <td>malamute</td>\n",
       "      <td>0.080901</td>\n",
       "      <td>True</td>\n",
       "      <td>doggo</td>\n",
       "      <td>121294</td>\n",
       "      <td>61934</td>\n",
       "      <td>138</td>\n",
       "    </tr>\n",
       "  </tbody>\n",
       "</table>\n",
       "</div>"
      ],
      "text/plain": [
       "               tweet_id           timestamp  \\\n",
       "656  739238157791694849 2016-06-04 23:31:25   \n",
       "\n",
       "                                                  text  rating_numerator  \\\n",
       "656  Here's a doggo blowing bubbles. It's downright...                13   \n",
       "\n",
       "     rating_denominator  name  \\\n",
       "656                  10  None   \n",
       "\n",
       "                                               jpg_url          p1   p1_conf  \\\n",
       "656  https://pbs.twimg.com/ext_tw_video_thumb/73923...  eskimo_dog  0.503372   \n",
       "\n",
       "    p1_dog              p2   p2_conf p2_dog        p3   p3_conf p3_dog  \\\n",
       "656   True  siberian_husky  0.390413   True  malamute  0.080901   True   \n",
       "\n",
       "    dog_stage  favorite_count  retweet_count  length  \n",
       "656     doggo          121294          61934     138  "
      ]
     },
     "execution_count": 60,
     "metadata": {},
     "output_type": "execute_result"
    }
   ],
   "source": [
    "# The tweets with the highest retweet count\n",
    "data.loc[data['retweet_count'] == 61934]"
   ]
  },
  {
   "cell_type": "markdown",
   "metadata": {},
   "source": [
    "_________________________"
   ]
  },
  {
   "cell_type": "code",
   "execution_count": 61,
   "metadata": {
    "scrolled": true
   },
   "outputs": [
    {
     "data": {
      "text/plain": [
       "None             1406\n",
       "pupper            175\n",
       "doggo              54\n",
       "puppo              18\n",
       "pupper,doggo        7\n",
       "floofer             7\n",
       "puppo,doggo         1\n",
       "floofer,doggo       1\n",
       "Name: dog_stage, dtype: int64"
      ]
     },
     "execution_count": 61,
     "metadata": {},
     "output_type": "execute_result"
    }
   ],
   "source": [
    "# Find the top dog stage\n",
    "data['dog_stage'].value_counts()"
   ]
  },
  {
   "cell_type": "code",
   "execution_count": 62,
   "metadata": {
    "scrolled": true
   },
   "outputs": [
    {
     "data": {
      "image/png": "[encoded data removed]",
      "text/plain": [
       "<matplotlib.figure.Figure at 0x114f86748>"
      ]
     },
     "metadata": {},
     "output_type": "display_data"
    }
   ],
   "source": [
    "# Create plots to show the dog_stage distribution\n",
    "plt.figure(figsize=(10,5))\n",
    "plt.hist(data.dog_stage.loc[data['dog_stage'] != 'None'], color='gray')\n",
    "plt.title('Dog Stage Distribution')\n",
    "plt.xlabel('Dog Stages')\n",
    "plt.ylabel('Frequency')\n",
    "plt.show()"
   ]
  },
  {
   "cell_type": "markdown",
   "metadata": {},
   "source": [
    "Pupper is the most popular dog stage with a total of 175, and floofer is the least popular. However, most tweets have no dog stage specified and were excluded."
   ]
  },
  {
   "cell_type": "markdown",
   "metadata": {},
   "source": [
    "_________________________"
   ]
  },
  {
   "cell_type": "code",
   "execution_count": 63,
   "metadata": {
    "scrolled": true
   },
   "outputs": [
    {
     "data": {
      "text/plain": [
       "count                 1558\n",
       "unique                 210\n",
       "top       golden_retriever\n",
       "freq                   129\n",
       "Name: p1, dtype: object"
      ]
     },
     "execution_count": 63,
     "metadata": {},
     "output_type": "execute_result"
    }
   ],
   "source": [
    "# Find what the algorithm has found as the top dog breed\n",
    "data['p1'].describe()"
   ]
  },
  {
   "cell_type": "code",
   "execution_count": 64,
   "metadata": {
    "scrolled": true
   },
   "outputs": [
    {
     "data": {
      "image/png": "[encoded data removed]",
      "text/plain": [
       "<matplotlib.figure.Figure at 0x11492e550>"
      ]
     },
     "metadata": {},
     "output_type": "display_data"
    }
   ],
   "source": [
    "# Plot the top 10 predicted dog breeds\n",
    "dogs = data['p1'] != 'not_dog'\n",
    "plt.figure(figsize=(5,5))\n",
    "breeds = data[dogs].p1.value_counts()[10::-1]\n",
    "breeds.plot.barh(color='orange')\n",
    "plt.title('Top 10 Dog Breeds')\n",
    "plt.xlabel('Frequency')\n",
    "plt.ylabel('Dog Breed')\n",
    "plt.show()"
   ]
  },
  {
   "cell_type": "markdown",
   "metadata": {},
   "source": [
    "The golden retriever is the most common dog breed found with a total of 129."
   ]
  },
  {
   "cell_type": "markdown",
   "metadata": {},
   "source": [
    "_________________________"
   ]
  },
  {
   "cell_type": "markdown",
   "metadata": {},
   "source": [
    "**Basic sentiment analysis:**"
   ]
  },
  {
   "cell_type": "code",
   "execution_count": 65,
   "metadata": {
    "collapsed": true,
    "scrolled": true
   },
   "outputs": [],
   "source": [
    "def clean_tweet(tweet):\n",
    "    '''\n",
    "    a function to clean the text in a tweet by removing links and special characters using regex.\n",
    "    '''\n",
    "    return ' '.join(re.sub(\"(@[A-Za-z0-9]+)|([^0-9A-Za-z \\t])|(\\w+:\\/\\/\\S+)\", \" \", tweet).split())\n",
    "\n",
    "def analize_sentiment(tweet):\n",
    "    '''\n",
    "    a function to classify a tweet's polarity using the library textblob.\n",
    "    '''\n",
    "    analysis = TextBlob(clean_tweet(tweet))\n",
    "    if analysis.sentiment.polarity > 0:\n",
    "        return 1\n",
    "    elif analysis.sentiment.polarity == 0:\n",
    "        return 0\n",
    "    else:\n",
    "        return -1"
   ]
  },
  {
   "cell_type": "code",
   "execution_count": 66,
   "metadata": {
    "scrolled": true
   },
   "outputs": [
    {
     "data": {
      "text/html": [
       "<div>\n",
       "<style>\n",
       "    .dataframe thead tr:only-child th {\n",
       "        text-align: right;\n",
       "    }\n",
       "\n",
       "    .dataframe thead th {\n",
       "        text-align: left;\n",
       "    }\n",
       "\n",
       "    .dataframe tbody tr th {\n",
       "        vertical-align: top;\n",
       "    }\n",
       "</style>\n",
       "<table border=\"1\" class=\"dataframe\">\n",
       "  <thead>\n",
       "    <tr style=\"text-align: right;\">\n",
       "      <th></th>\n",
       "      <th>tweet_id</th>\n",
       "      <th>timestamp</th>\n",
       "      <th>text</th>\n",
       "      <th>rating_numerator</th>\n",
       "      <th>rating_denominator</th>\n",
       "      <th>name</th>\n",
       "      <th>jpg_url</th>\n",
       "      <th>p1</th>\n",
       "      <th>p1_conf</th>\n",
       "      <th>p1_dog</th>\n",
       "      <th>...</th>\n",
       "      <th>p2_conf</th>\n",
       "      <th>p2_dog</th>\n",
       "      <th>p3</th>\n",
       "      <th>p3_conf</th>\n",
       "      <th>p3_dog</th>\n",
       "      <th>dog_stage</th>\n",
       "      <th>favorite_count</th>\n",
       "      <th>retweet_count</th>\n",
       "      <th>length</th>\n",
       "      <th>SA</th>\n",
       "    </tr>\n",
       "  </thead>\n",
       "  <tbody>\n",
       "    <tr>\n",
       "      <th>1668</th>\n",
       "      <td>666020888022790149</td>\n",
       "      <td>2015-11-15 22:32:08</td>\n",
       "      <td>Here we have a Japanese Irish Setter. Lost eye...</td>\n",
       "      <td>8</td>\n",
       "      <td>10</td>\n",
       "      <td>None</td>\n",
       "      <td>https://pbs.twimg.com/media/CT4udn0WwAA0aMy.jpg</td>\n",
       "      <td>welsh_springer_spaniel</td>\n",
       "      <td>0.465074</td>\n",
       "      <td>True</td>\n",
       "      <td>...</td>\n",
       "      <td>0.156665</td>\n",
       "      <td>True</td>\n",
       "      <td>shetland_sheepdog</td>\n",
       "      <td>0.061428</td>\n",
       "      <td>True</td>\n",
       "      <td>None</td>\n",
       "      <td>2535</td>\n",
       "      <td>502</td>\n",
       "      <td>131</td>\n",
       "      <td>0</td>\n",
       "    </tr>\n",
       "    <tr>\n",
       "      <th>1667</th>\n",
       "      <td>666029285002620928</td>\n",
       "      <td>2015-11-15 23:05:30</td>\n",
       "      <td>This is a western brown Mitsubishi terrier. Up...</td>\n",
       "      <td>7</td>\n",
       "      <td>10</td>\n",
       "      <td>None</td>\n",
       "      <td>https://pbs.twimg.com/media/CT42GRgUYAA5iDo.jpg</td>\n",
       "      <td>redbone</td>\n",
       "      <td>0.506826</td>\n",
       "      <td>True</td>\n",
       "      <td>...</td>\n",
       "      <td>0.074192</td>\n",
       "      <td>True</td>\n",
       "      <td>rhodesian_ridgeback</td>\n",
       "      <td>0.072010</td>\n",
       "      <td>True</td>\n",
       "      <td>None</td>\n",
       "      <td>126</td>\n",
       "      <td>47</td>\n",
       "      <td>139</td>\n",
       "      <td>-1</td>\n",
       "    </tr>\n",
       "    <tr>\n",
       "      <th>1666</th>\n",
       "      <td>666033412701032449</td>\n",
       "      <td>2015-11-15 23:21:54</td>\n",
       "      <td>Here is a very happy pup. Big fan of well-main...</td>\n",
       "      <td>9</td>\n",
       "      <td>10</td>\n",
       "      <td>None</td>\n",
       "      <td>https://pbs.twimg.com/media/CT4521TWwAEvMyu.jpg</td>\n",
       "      <td>german_shepherd</td>\n",
       "      <td>0.596461</td>\n",
       "      <td>True</td>\n",
       "      <td>...</td>\n",
       "      <td>0.138584</td>\n",
       "      <td>True</td>\n",
       "      <td>bloodhound</td>\n",
       "      <td>0.116197</td>\n",
       "      <td>True</td>\n",
       "      <td>None</td>\n",
       "      <td>123</td>\n",
       "      <td>43</td>\n",
       "      <td>130</td>\n",
       "      <td>1</td>\n",
       "    </tr>\n",
       "    <tr>\n",
       "      <th>1665</th>\n",
       "      <td>666044226329800704</td>\n",
       "      <td>2015-11-16 00:04:52</td>\n",
       "      <td>This is a purebred Piers Morgan. Loves to Netf...</td>\n",
       "      <td>6</td>\n",
       "      <td>10</td>\n",
       "      <td>None</td>\n",
       "      <td>https://pbs.twimg.com/media/CT5Dr8HUEAA-lEu.jpg</td>\n",
       "      <td>rhodesian_ridgeback</td>\n",
       "      <td>0.408143</td>\n",
       "      <td>True</td>\n",
       "      <td>...</td>\n",
       "      <td>0.360687</td>\n",
       "      <td>True</td>\n",
       "      <td>miniature_pinscher</td>\n",
       "      <td>0.222752</td>\n",
       "      <td>True</td>\n",
       "      <td>None</td>\n",
       "      <td>292</td>\n",
       "      <td>139</td>\n",
       "      <td>137</td>\n",
       "      <td>0</td>\n",
       "    </tr>\n",
       "    <tr>\n",
       "      <th>1664</th>\n",
       "      <td>666049248165822465</td>\n",
       "      <td>2015-11-16 00:24:50</td>\n",
       "      <td>Here we have a 1949 1st generation vulpix. Enj...</td>\n",
       "      <td>5</td>\n",
       "      <td>10</td>\n",
       "      <td>None</td>\n",
       "      <td>https://pbs.twimg.com/media/CT5IQmsXIAAKY4A.jpg</td>\n",
       "      <td>miniature_pinscher</td>\n",
       "      <td>0.560311</td>\n",
       "      <td>True</td>\n",
       "      <td>...</td>\n",
       "      <td>0.243682</td>\n",
       "      <td>True</td>\n",
       "      <td>doberman</td>\n",
       "      <td>0.154629</td>\n",
       "      <td>True</td>\n",
       "      <td>None</td>\n",
       "      <td>106</td>\n",
       "      <td>41</td>\n",
       "      <td>120</td>\n",
       "      <td>0</td>\n",
       "    </tr>\n",
       "  </tbody>\n",
       "</table>\n",
       "<p>5 rows × 21 columns</p>\n",
       "</div>"
      ],
      "text/plain": [
       "                tweet_id           timestamp  \\\n",
       "1668  666020888022790149 2015-11-15 22:32:08   \n",
       "1667  666029285002620928 2015-11-15 23:05:30   \n",
       "1666  666033412701032449 2015-11-15 23:21:54   \n",
       "1665  666044226329800704 2015-11-16 00:04:52   \n",
       "1664  666049248165822465 2015-11-16 00:24:50   \n",
       "\n",
       "                                                   text  rating_numerator  \\\n",
       "1668  Here we have a Japanese Irish Setter. Lost eye...                 8   \n",
       "1667  This is a western brown Mitsubishi terrier. Up...                 7   \n",
       "1666  Here is a very happy pup. Big fan of well-main...                 9   \n",
       "1665  This is a purebred Piers Morgan. Loves to Netf...                 6   \n",
       "1664  Here we have a 1949 1st generation vulpix. Enj...                 5   \n",
       "\n",
       "      rating_denominator  name  \\\n",
       "1668                  10  None   \n",
       "1667                  10  None   \n",
       "1666                  10  None   \n",
       "1665                  10  None   \n",
       "1664                  10  None   \n",
       "\n",
       "                                              jpg_url                      p1  \\\n",
       "1668  https://pbs.twimg.com/media/CT4udn0WwAA0aMy.jpg  welsh_springer_spaniel   \n",
       "1667  https://pbs.twimg.com/media/CT42GRgUYAA5iDo.jpg                 redbone   \n",
       "1666  https://pbs.twimg.com/media/CT4521TWwAEvMyu.jpg         german_shepherd   \n",
       "1665  https://pbs.twimg.com/media/CT5Dr8HUEAA-lEu.jpg     rhodesian_ridgeback   \n",
       "1664  https://pbs.twimg.com/media/CT5IQmsXIAAKY4A.jpg      miniature_pinscher   \n",
       "\n",
       "       p1_conf p1_dog ...   p2_conf  p2_dog                   p3   p3_conf  \\\n",
       "1668  0.465074   True ...  0.156665    True    shetland_sheepdog  0.061428   \n",
       "1667  0.506826   True ...  0.074192    True  rhodesian_ridgeback  0.072010   \n",
       "1666  0.596461   True ...  0.138584    True           bloodhound  0.116197   \n",
       "1665  0.408143   True ...  0.360687    True   miniature_pinscher  0.222752   \n",
       "1664  0.560311   True ...  0.243682    True             doberman  0.154629   \n",
       "\n",
       "      p3_dog dog_stage favorite_count  retweet_count  length  SA  \n",
       "1668    True      None           2535            502     131   0  \n",
       "1667    True      None            126             47     139  -1  \n",
       "1666    True      None            123             43     130   1  \n",
       "1665    True      None            292            139     137   0  \n",
       "1664    True      None            106             41     120   0  \n",
       "\n",
       "[5 rows x 21 columns]"
      ]
     },
     "metadata": {},
     "output_type": "display_data"
    }
   ],
   "source": [
    "# Add the analysis result as a new column to the dataframe\n",
    "data['SA'] = np.array([ analize_sentiment(tweet) for tweet in data['text'] ])\n",
    "\n",
    "# Display the updated dataframe with the sentimate analysis results for each tweet\n",
    "display(data.head(5))"
   ]
  },
  {
   "cell_type": "code",
   "execution_count": 67,
   "metadata": {
    "scrolled": true
   },
   "outputs": [
    {
     "name": "stdout",
     "output_type": "stream",
     "text": [
      "Percentage of positive tweets: 51.46794487717196%\n",
      "Percentage of neutral tweets: 27.02216896345117%\n",
      "Percentage de negative tweets: 21.509886159376872%\n"
     ]
    }
   ],
   "source": [
    "# Classify tweets\n",
    "positives = [ tweet for index, tweet in enumerate(data['text']) if data['SA'][index] > 0]\n",
    "neutrals = [ tweet for index, tweet in enumerate(data['text']) if data['SA'][index] == 0]\n",
    "negatives = [ tweet for index, tweet in enumerate(data['text']) if data['SA'][index] < 0]\n",
    "\n",
    "positives_percent = len(positives) * 100 / len(data['text'])\n",
    "neutrals_percent = len(neutrals) * 100 / len(data['text'])\n",
    "negatives_percent = len(negatives) * 100 / len(data['text'])\n",
    "\n",
    "# Calculate the percentages of each classification\n",
    "print(\"Percentage of positive tweets: {}%\".format(positives_percent))\n",
    "print(\"Percentage of neutral tweets: {}%\".format(neutrals_percent))\n",
    "print(\"Percentage de negative tweets: {}%\".format(negatives_percent))"
   ]
  },
  {
   "cell_type": "markdown",
   "metadata": {},
   "source": [
    "**Visualizations:**"
   ]
  },
  {
   "cell_type": "code",
   "execution_count": 68,
   "metadata": {
    "scrolled": true
   },
   "outputs": [
    {
     "data": {
      "image/png": "[encoded data removed]",
      "text/plain": [
       "<matplotlib.figure.Figure at 0x11649eda0>"
      ]
     },
     "metadata": {},
     "output_type": "display_data"
    }
   ],
   "source": [
    "# Construct a dictionary holding all the percentages\n",
    "classification = {'positive':positives_percent, 'neutral':neutrals_percent, 'negative':negatives_percent}\n",
    "\n",
    "# Create a time series from the classification data\n",
    "series = pd.Series(classification, name='@WeRateDogs Tweets Classification')\n",
    "\n",
    "# Visualize the result in a pie chart\n",
    "series.plot.pie(fontsize=14, autopct='%.2f', figsize=(5, 5), colors=['gray', 'orange', 'maroon']);\n",
    "plt.show();"
   ]
  },
  {
   "cell_type": "code",
   "execution_count": 71,
   "metadata": {},
   "outputs": [
    {
     "data": {
      "text/plain": [
       "count    1669.000000\n",
       "mean      120.675255\n",
       "std        27.073995\n",
       "min        36.000000\n",
       "25%       103.000000\n",
       "50%       130.000000\n",
       "75%       139.000000\n",
       "max       167.000000\n",
       "Name: length, dtype: float64"
      ]
     },
     "execution_count": 71,
     "metadata": {},
     "output_type": "execute_result"
    }
   ],
   "source": [
    "data['length'].describe()"
   ]
  },
  {
   "cell_type": "markdown",
   "metadata": {},
   "source": [
    "It doesn't come as a surprise that most @WeRateDogs tweets are positive since the whole account is created to express dogs love and appreciation."
   ]
  }
 ],
 "metadata": {
  "kernelspec": {
   "display_name": "Python 3",
   "language": "python",
   "name": "python3"
  },
  "language_info": {
   "codemirror_mode": {
    "name": "ipython",
    "version": 3
   },
   "file_extension": ".py",
   "mimetype": "text/x-python",
   "name": "python",
   "nbconvert_exporter": "python",
   "pygments_lexer": "ipython3",
   "version": "3.6.3"
  }
 },
 "nbformat": 4,
 "nbformat_minor": 2
}
